{
 "cells": [
  {
   "cell_type": "markdown",
   "metadata": {},
   "source": [
    "# Cleaning Flights dataset\n",
    "#### by Jérôme d'Harveng\n",
    "\n",
    "<a id='table'></a>\n",
    "## Table of Contents\n",
    "<ul>\n",
    "<li><a href=\"#gathering\">Gathering the data</a></li>\n",
    "<li><a href=\"#assessing\">Assessing</a></li>\n",
    "<li><a href=\"#cleaning\">Cleaning</a></li>\n",
    "<li><a href=\"#exporting\">Exporting to csv</a></li>\n",
    "</ul>"
   ]
  },
  {
   "cell_type": "markdown",
   "metadata": {},
   "source": [
    "<a id='gathering'></a>\n",
    "## Gathering"
   ]
  },
  {
   "cell_type": "code",
   "execution_count": 1,
   "metadata": {},
   "outputs": [],
   "source": [
    "# import necessary librarie\n",
    "import pandas as pd\n",
    "import numpy as np\n",
    "import matplotlib.pyplot as plt"
   ]
  },
  {
   "cell_type": "code",
   "execution_count": 2,
   "metadata": {},
   "outputs": [
    {
     "name": "stdout",
     "output_type": "stream",
     "text": [
      "month_01 loaded\n",
      "month_02 loaded\n",
      "month_03 loaded\n"
     ]
    },
    {
     "name": "stderr",
     "output_type": "stream",
     "text": [
      "b'Skipping line 121012: expected 65 fields, saw 75\\nSkipping line 386249: expected 65 fields, saw 83\\nSkipping line 388291: expected 65 fields, saw 78\\nSkipping line 389371: expected 65 fields, saw 72\\nSkipping line 389548: expected 65 fields, saw 81\\nSkipping line 453858: expected 65 fields, saw 97\\n'\n"
     ]
    },
    {
     "name": "stdout",
     "output_type": "stream",
     "text": [
      "month_04 loaded\n",
      "month_05 loaded\n",
      "month_06 loaded\n",
      "month_07 loaded\n",
      "month_08 loaded\n",
      "month_09 loaded\n",
      "month_10 loaded\n",
      "month_11 loaded\n",
      "month_12 loaded\n"
     ]
    }
   ],
   "source": [
    "# import of the 12 csv into a dictionnary of dataframes\n",
    "df = {}\n",
    "for x in range(1,13):\n",
    "    if x < 10:\n",
    "        df[\"month_0{0}\".format(x)]= pd.read_csv(f'work_P4/Data_P4/2016_0{x}.csv',encoding='utf_8', low_memory=False,\n",
    "                                               error_bad_lines=False)\n",
    "        print(f'month_0{x} loaded')\n",
    "    else:\n",
    "        df[\"month_{0}\".format(x)]= pd.read_csv(f'work_P4/Data_P4/2016_{x}.csv',encoding='utf_8', low_memory=False,\n",
    "                                               error_bad_lines=False)\n",
    "        print(f'month_{x} loaded')"
   ]
  },
  {
   "cell_type": "code",
   "execution_count": 3,
   "metadata": {},
   "outputs": [
    {
     "name": "stdout",
     "output_type": "stream",
     "text": [
      "(445827, 65)\n",
      "(423889, 65)\n",
      "(479122, 65)\n",
      "(479950, 65)\n",
      "(479358, 65)\n",
      "(487637, 65)\n",
      "(502457, 65)\n",
      "(498347, 65)\n",
      "(454878, 65)\n",
      "(472626, 65)\n",
      "(450938, 65)\n",
      "(460949, 65)\n"
     ]
    }
   ],
   "source": [
    "# Checking the amount of features\n",
    "for v in df.values():\n",
    "    print(v.shape)"
   ]
  },
  {
   "cell_type": "markdown",
   "metadata": {},
   "source": [
    "> All of the 12 dataframes have the same amount of features = 65"
   ]
  },
  {
   "cell_type": "code",
   "execution_count": 4,
   "metadata": {},
   "outputs": [
    {
     "name": "stdout",
     "output_type": "stream",
     "text": [
      "['YEAR', 'QUARTER', 'MONTH', 'DAY_OF_MONTH', 'DAY_OF_WEEK', 'FL_DATE', 'UNIQUE_CARRIER', 'AIRLINE_ID', 'CARRIER', 'TAIL_NUM', 'FL_NUM', 'ORIGIN_AIRPORT_ID', 'ORIGIN_AIRPORT_SEQ_ID', 'ORIGIN_CITY_MARKET_ID', 'ORIGIN', 'ORIGIN_CITY_NAME', 'ORIGIN_STATE_ABR', 'ORIGIN_STATE_FIPS', 'ORIGIN_STATE_NM', 'ORIGIN_WAC', 'DEST_AIRPORT_ID', 'DEST_AIRPORT_SEQ_ID', 'DEST_CITY_MARKET_ID', 'DEST', 'DEST_CITY_NAME', 'DEST_STATE_ABR', 'DEST_STATE_FIPS', 'DEST_STATE_NM', 'DEST_WAC', 'CRS_DEP_TIME', 'DEP_TIME', 'DEP_DELAY', 'DEP_DELAY_NEW', 'DEP_DEL15', 'DEP_DELAY_GROUP', 'DEP_TIME_BLK', 'TAXI_OUT', 'WHEELS_OFF', 'WHEELS_ON', 'TAXI_IN', 'CRS_ARR_TIME', 'ARR_TIME', 'ARR_DELAY', 'ARR_DELAY_NEW', 'ARR_DEL15', 'ARR_DELAY_GROUP', 'ARR_TIME_BLK', 'CANCELLED', 'CANCELLATION_CODE', 'DIVERTED', 'CRS_ELAPSED_TIME', 'ACTUAL_ELAPSED_TIME', 'AIR_TIME', 'FLIGHTS', 'DISTANCE', 'DISTANCE_GROUP', 'CARRIER_DELAY', 'WEATHER_DELAY', 'NAS_DELAY', 'SECURITY_DELAY', 'LATE_AIRCRAFT_DELAY', 'FIRST_DEP_TIME', 'TOTAL_ADD_GTIME', 'LONGEST_ADD_GTIME', 'Unnamed: 64']\n"
     ]
    }
   ],
   "source": [
    "# Quick vieuw on all the column names\n",
    "print(df['month_01'].columns.values.tolist())"
   ]
  },
  {
   "cell_type": "markdown",
   "metadata": {},
   "source": [
    "<a id='assessing'></a>\n",
    "## Assessing"
   ]
  },
  {
   "cell_type": "markdown",
   "metadata": {},
   "source": [
    "### Visual inspection"
   ]
  },
  {
   "cell_type": "markdown",
   "metadata": {},
   "source": [
    "#### Are all the columns equals in the 12 dataframes?"
   ]
  },
  {
   "cell_type": "code",
   "execution_count": 5,
   "metadata": {},
   "outputs": [
    {
     "name": "stdout",
     "output_type": "stream",
     "text": [
      "month_01 :\n",
      "True\n",
      "month_02 :\n",
      "True\n",
      "month_03 :\n",
      "True\n",
      "month_04 :\n",
      "True\n",
      "month_05 :\n",
      "True\n",
      "month_06 :\n",
      "True\n",
      "month_07 :\n",
      "True\n",
      "month_08 :\n",
      "True\n",
      "month_09 :\n",
      "True\n",
      "month_10 :\n",
      "True\n",
      "month_11 :\n",
      "True\n",
      "month_12 :\n",
      "True\n"
     ]
    }
   ],
   "source": [
    "reference_list = df['month_01'].columns.values.tolist() \n",
    "for month,value in df.items():\n",
    "    print(f'{month} :')\n",
    "    print(reference_list == v.columns.values.tolist())"
   ]
  },
  {
   "cell_type": "markdown",
   "metadata": {},
   "source": [
    "> the columns are the same in the 12 dataframes, what will make it possible to concatenate them into 1 bigger dataframe"
   ]
  },
  {
   "cell_type": "markdown",
   "metadata": {},
   "source": [
    "#### Inspecting the 5 first lines of Month_01"
   ]
  },
  {
   "cell_type": "code",
   "execution_count": 6,
   "metadata": {},
   "outputs": [
    {
     "data": {
      "text/html": [
       "<div>\n",
       "<style scoped>\n",
       "    .dataframe tbody tr th:only-of-type {\n",
       "        vertical-align: middle;\n",
       "    }\n",
       "\n",
       "    .dataframe tbody tr th {\n",
       "        vertical-align: top;\n",
       "    }\n",
       "\n",
       "    .dataframe thead th {\n",
       "        text-align: right;\n",
       "    }\n",
       "</style>\n",
       "<table border=\"1\" class=\"dataframe\">\n",
       "  <thead>\n",
       "    <tr style=\"text-align: right;\">\n",
       "      <th></th>\n",
       "      <th>YEAR</th>\n",
       "      <th>QUARTER</th>\n",
       "      <th>MONTH</th>\n",
       "      <th>DAY_OF_MONTH</th>\n",
       "      <th>DAY_OF_WEEK</th>\n",
       "      <th>FL_DATE</th>\n",
       "      <th>UNIQUE_CARRIER</th>\n",
       "      <th>AIRLINE_ID</th>\n",
       "      <th>CARRIER</th>\n",
       "      <th>TAIL_NUM</th>\n",
       "      <th>FL_NUM</th>\n",
       "      <th>ORIGIN_AIRPORT_ID</th>\n",
       "      <th>ORIGIN_AIRPORT_SEQ_ID</th>\n",
       "      <th>ORIGIN_CITY_MARKET_ID</th>\n",
       "      <th>ORIGIN</th>\n",
       "      <th>ORIGIN_CITY_NAME</th>\n",
       "      <th>ORIGIN_STATE_ABR</th>\n",
       "      <th>ORIGIN_STATE_FIPS</th>\n",
       "    </tr>\n",
       "  </thead>\n",
       "  <tbody>\n",
       "    <tr>\n",
       "      <th>0</th>\n",
       "      <td>2016</td>\n",
       "      <td>1</td>\n",
       "      <td>1</td>\n",
       "      <td>6</td>\n",
       "      <td>3</td>\n",
       "      <td>2016-01-06</td>\n",
       "      <td>AA</td>\n",
       "      <td>19805</td>\n",
       "      <td>AA</td>\n",
       "      <td>N4YBAA</td>\n",
       "      <td>43</td>\n",
       "      <td>11298</td>\n",
       "      <td>1129804</td>\n",
       "      <td>30194</td>\n",
       "      <td>DFW</td>\n",
       "      <td>Dallas/Fort Worth, TX</td>\n",
       "      <td>TX</td>\n",
       "      <td>48</td>\n",
       "    </tr>\n",
       "    <tr>\n",
       "      <th>1</th>\n",
       "      <td>2016</td>\n",
       "      <td>1</td>\n",
       "      <td>1</td>\n",
       "      <td>7</td>\n",
       "      <td>4</td>\n",
       "      <td>2016-01-07</td>\n",
       "      <td>AA</td>\n",
       "      <td>19805</td>\n",
       "      <td>AA</td>\n",
       "      <td>N434AA</td>\n",
       "      <td>43</td>\n",
       "      <td>11298</td>\n",
       "      <td>1129804</td>\n",
       "      <td>30194</td>\n",
       "      <td>DFW</td>\n",
       "      <td>Dallas/Fort Worth, TX</td>\n",
       "      <td>TX</td>\n",
       "      <td>48</td>\n",
       "    </tr>\n",
       "    <tr>\n",
       "      <th>2</th>\n",
       "      <td>2016</td>\n",
       "      <td>1</td>\n",
       "      <td>1</td>\n",
       "      <td>8</td>\n",
       "      <td>5</td>\n",
       "      <td>2016-01-08</td>\n",
       "      <td>AA</td>\n",
       "      <td>19805</td>\n",
       "      <td>AA</td>\n",
       "      <td>N541AA</td>\n",
       "      <td>43</td>\n",
       "      <td>11298</td>\n",
       "      <td>1129804</td>\n",
       "      <td>30194</td>\n",
       "      <td>DFW</td>\n",
       "      <td>Dallas/Fort Worth, TX</td>\n",
       "      <td>TX</td>\n",
       "      <td>48</td>\n",
       "    </tr>\n",
       "    <tr>\n",
       "      <th>3</th>\n",
       "      <td>2016</td>\n",
       "      <td>1</td>\n",
       "      <td>1</td>\n",
       "      <td>9</td>\n",
       "      <td>6</td>\n",
       "      <td>2016-01-09</td>\n",
       "      <td>AA</td>\n",
       "      <td>19805</td>\n",
       "      <td>AA</td>\n",
       "      <td>N489AA</td>\n",
       "      <td>43</td>\n",
       "      <td>11298</td>\n",
       "      <td>1129804</td>\n",
       "      <td>30194</td>\n",
       "      <td>DFW</td>\n",
       "      <td>Dallas/Fort Worth, TX</td>\n",
       "      <td>TX</td>\n",
       "      <td>48</td>\n",
       "    </tr>\n",
       "    <tr>\n",
       "      <th>4</th>\n",
       "      <td>2016</td>\n",
       "      <td>1</td>\n",
       "      <td>1</td>\n",
       "      <td>10</td>\n",
       "      <td>7</td>\n",
       "      <td>2016-01-10</td>\n",
       "      <td>AA</td>\n",
       "      <td>19805</td>\n",
       "      <td>AA</td>\n",
       "      <td>N439AA</td>\n",
       "      <td>43</td>\n",
       "      <td>11298</td>\n",
       "      <td>1129804</td>\n",
       "      <td>30194</td>\n",
       "      <td>DFW</td>\n",
       "      <td>Dallas/Fort Worth, TX</td>\n",
       "      <td>TX</td>\n",
       "      <td>48</td>\n",
       "    </tr>\n",
       "  </tbody>\n",
       "</table>\n",
       "</div>"
      ],
      "text/plain": [
       "   YEAR  QUARTER  MONTH  DAY_OF_MONTH  DAY_OF_WEEK     FL_DATE UNIQUE_CARRIER  \\\n",
       "0  2016        1      1             6            3  2016-01-06             AA   \n",
       "1  2016        1      1             7            4  2016-01-07             AA   \n",
       "2  2016        1      1             8            5  2016-01-08             AA   \n",
       "3  2016        1      1             9            6  2016-01-09             AA   \n",
       "4  2016        1      1            10            7  2016-01-10             AA   \n",
       "\n",
       "   AIRLINE_ID CARRIER TAIL_NUM  FL_NUM  ORIGIN_AIRPORT_ID  \\\n",
       "0       19805      AA   N4YBAA      43              11298   \n",
       "1       19805      AA   N434AA      43              11298   \n",
       "2       19805      AA   N541AA      43              11298   \n",
       "3       19805      AA   N489AA      43              11298   \n",
       "4       19805      AA   N439AA      43              11298   \n",
       "\n",
       "   ORIGIN_AIRPORT_SEQ_ID  ORIGIN_CITY_MARKET_ID ORIGIN       ORIGIN_CITY_NAME  \\\n",
       "0                1129804                  30194    DFW  Dallas/Fort Worth, TX   \n",
       "1                1129804                  30194    DFW  Dallas/Fort Worth, TX   \n",
       "2                1129804                  30194    DFW  Dallas/Fort Worth, TX   \n",
       "3                1129804                  30194    DFW  Dallas/Fort Worth, TX   \n",
       "4                1129804                  30194    DFW  Dallas/Fort Worth, TX   \n",
       "\n",
       "  ORIGIN_STATE_ABR  ORIGIN_STATE_FIPS  \n",
       "0               TX                 48  \n",
       "1               TX                 48  \n",
       "2               TX                 48  \n",
       "3               TX                 48  \n",
       "4               TX                 48  "
      ]
     },
     "execution_count": 6,
     "metadata": {},
     "output_type": "execute_result"
    }
   ],
   "source": [
    "df['month_01'][['YEAR', 'QUARTER', 'MONTH', 'DAY_OF_MONTH', 'DAY_OF_WEEK', 'FL_DATE', 'UNIQUE_CARRIER', \n",
    "               'AIRLINE_ID', 'CARRIER', 'TAIL_NUM', 'FL_NUM', 'ORIGIN_AIRPORT_ID', 'ORIGIN_AIRPORT_SEQ_ID', \n",
    "               'ORIGIN_CITY_MARKET_ID', 'ORIGIN', 'ORIGIN_CITY_NAME', 'ORIGIN_STATE_ABR', 'ORIGIN_STATE_FIPS']].head(5)"
   ]
  },
  {
   "cell_type": "code",
   "execution_count": 7,
   "metadata": {},
   "outputs": [
    {
     "data": {
      "text/html": [
       "<div>\n",
       "<style scoped>\n",
       "    .dataframe tbody tr th:only-of-type {\n",
       "        vertical-align: middle;\n",
       "    }\n",
       "\n",
       "    .dataframe tbody tr th {\n",
       "        vertical-align: top;\n",
       "    }\n",
       "\n",
       "    .dataframe thead th {\n",
       "        text-align: right;\n",
       "    }\n",
       "</style>\n",
       "<table border=\"1\" class=\"dataframe\">\n",
       "  <thead>\n",
       "    <tr style=\"text-align: right;\">\n",
       "      <th></th>\n",
       "      <th>ORIGIN_STATE_NM</th>\n",
       "      <th>ORIGIN_WAC</th>\n",
       "      <th>DEST_AIRPORT_ID</th>\n",
       "      <th>DEST_AIRPORT_SEQ_ID</th>\n",
       "      <th>DEST_CITY_MARKET_ID</th>\n",
       "      <th>DEST</th>\n",
       "      <th>DEST_CITY_NAME</th>\n",
       "      <th>DEST_STATE_ABR</th>\n",
       "      <th>DEST_STATE_FIPS</th>\n",
       "      <th>DEST_STATE_NM</th>\n",
       "      <th>DEST_WAC</th>\n",
       "      <th>CRS_DEP_TIME</th>\n",
       "      <th>DEP_TIME</th>\n",
       "      <th>DEP_DELAY</th>\n",
       "      <th>DEP_DELAY_NEW</th>\n",
       "      <th>DEP_DEL15</th>\n",
       "      <th>DEP_DELAY_GROUP</th>\n",
       "      <th>DEP_TIME_BLK</th>\n",
       "    </tr>\n",
       "  </thead>\n",
       "  <tbody>\n",
       "    <tr>\n",
       "      <th>0</th>\n",
       "      <td>Texas</td>\n",
       "      <td>74</td>\n",
       "      <td>11433</td>\n",
       "      <td>1143302</td>\n",
       "      <td>31295</td>\n",
       "      <td>DTW</td>\n",
       "      <td>Detroit, MI</td>\n",
       "      <td>MI</td>\n",
       "      <td>26</td>\n",
       "      <td>Michigan</td>\n",
       "      <td>43</td>\n",
       "      <td>1100</td>\n",
       "      <td>1057.0</td>\n",
       "      <td>-3.0</td>\n",
       "      <td>0.0</td>\n",
       "      <td>0.0</td>\n",
       "      <td>-1.0</td>\n",
       "      <td>1100-1159</td>\n",
       "    </tr>\n",
       "    <tr>\n",
       "      <th>1</th>\n",
       "      <td>Texas</td>\n",
       "      <td>74</td>\n",
       "      <td>11433</td>\n",
       "      <td>1143302</td>\n",
       "      <td>31295</td>\n",
       "      <td>DTW</td>\n",
       "      <td>Detroit, MI</td>\n",
       "      <td>MI</td>\n",
       "      <td>26</td>\n",
       "      <td>Michigan</td>\n",
       "      <td>43</td>\n",
       "      <td>1100</td>\n",
       "      <td>1056.0</td>\n",
       "      <td>-4.0</td>\n",
       "      <td>0.0</td>\n",
       "      <td>0.0</td>\n",
       "      <td>-1.0</td>\n",
       "      <td>1100-1159</td>\n",
       "    </tr>\n",
       "    <tr>\n",
       "      <th>2</th>\n",
       "      <td>Texas</td>\n",
       "      <td>74</td>\n",
       "      <td>11433</td>\n",
       "      <td>1143302</td>\n",
       "      <td>31295</td>\n",
       "      <td>DTW</td>\n",
       "      <td>Detroit, MI</td>\n",
       "      <td>MI</td>\n",
       "      <td>26</td>\n",
       "      <td>Michigan</td>\n",
       "      <td>43</td>\n",
       "      <td>1100</td>\n",
       "      <td>1055.0</td>\n",
       "      <td>-5.0</td>\n",
       "      <td>0.0</td>\n",
       "      <td>0.0</td>\n",
       "      <td>-1.0</td>\n",
       "      <td>1100-1159</td>\n",
       "    </tr>\n",
       "    <tr>\n",
       "      <th>3</th>\n",
       "      <td>Texas</td>\n",
       "      <td>74</td>\n",
       "      <td>11433</td>\n",
       "      <td>1143302</td>\n",
       "      <td>31295</td>\n",
       "      <td>DTW</td>\n",
       "      <td>Detroit, MI</td>\n",
       "      <td>MI</td>\n",
       "      <td>26</td>\n",
       "      <td>Michigan</td>\n",
       "      <td>43</td>\n",
       "      <td>1100</td>\n",
       "      <td>1102.0</td>\n",
       "      <td>2.0</td>\n",
       "      <td>2.0</td>\n",
       "      <td>0.0</td>\n",
       "      <td>0.0</td>\n",
       "      <td>1100-1159</td>\n",
       "    </tr>\n",
       "    <tr>\n",
       "      <th>4</th>\n",
       "      <td>Texas</td>\n",
       "      <td>74</td>\n",
       "      <td>11433</td>\n",
       "      <td>1143302</td>\n",
       "      <td>31295</td>\n",
       "      <td>DTW</td>\n",
       "      <td>Detroit, MI</td>\n",
       "      <td>MI</td>\n",
       "      <td>26</td>\n",
       "      <td>Michigan</td>\n",
       "      <td>43</td>\n",
       "      <td>1100</td>\n",
       "      <td>1240.0</td>\n",
       "      <td>100.0</td>\n",
       "      <td>100.0</td>\n",
       "      <td>1.0</td>\n",
       "      <td>6.0</td>\n",
       "      <td>1100-1159</td>\n",
       "    </tr>\n",
       "  </tbody>\n",
       "</table>\n",
       "</div>"
      ],
      "text/plain": [
       "  ORIGIN_STATE_NM  ORIGIN_WAC  DEST_AIRPORT_ID  DEST_AIRPORT_SEQ_ID  \\\n",
       "0           Texas          74            11433              1143302   \n",
       "1           Texas          74            11433              1143302   \n",
       "2           Texas          74            11433              1143302   \n",
       "3           Texas          74            11433              1143302   \n",
       "4           Texas          74            11433              1143302   \n",
       "\n",
       "   DEST_CITY_MARKET_ID DEST DEST_CITY_NAME DEST_STATE_ABR  DEST_STATE_FIPS  \\\n",
       "0                31295  DTW    Detroit, MI             MI               26   \n",
       "1                31295  DTW    Detroit, MI             MI               26   \n",
       "2                31295  DTW    Detroit, MI             MI               26   \n",
       "3                31295  DTW    Detroit, MI             MI               26   \n",
       "4                31295  DTW    Detroit, MI             MI               26   \n",
       "\n",
       "  DEST_STATE_NM  DEST_WAC  CRS_DEP_TIME  DEP_TIME  DEP_DELAY  DEP_DELAY_NEW  \\\n",
       "0      Michigan        43          1100    1057.0       -3.0            0.0   \n",
       "1      Michigan        43          1100    1056.0       -4.0            0.0   \n",
       "2      Michigan        43          1100    1055.0       -5.0            0.0   \n",
       "3      Michigan        43          1100    1102.0        2.0            2.0   \n",
       "4      Michigan        43          1100    1240.0      100.0          100.0   \n",
       "\n",
       "   DEP_DEL15  DEP_DELAY_GROUP DEP_TIME_BLK  \n",
       "0        0.0             -1.0    1100-1159  \n",
       "1        0.0             -1.0    1100-1159  \n",
       "2        0.0             -1.0    1100-1159  \n",
       "3        0.0              0.0    1100-1159  \n",
       "4        1.0              6.0    1100-1159  "
      ]
     },
     "execution_count": 7,
     "metadata": {},
     "output_type": "execute_result"
    }
   ],
   "source": [
    "df['month_01'][['ORIGIN_STATE_NM', 'ORIGIN_WAC', 'DEST_AIRPORT_ID', 'DEST_AIRPORT_SEQ_ID', 'DEST_CITY_MARKET_ID', \n",
    "                'DEST', 'DEST_CITY_NAME', 'DEST_STATE_ABR', 'DEST_STATE_FIPS', 'DEST_STATE_NM', 'DEST_WAC', \n",
    "                'CRS_DEP_TIME', 'DEP_TIME', 'DEP_DELAY', 'DEP_DELAY_NEW', 'DEP_DEL15', 'DEP_DELAY_GROUP',\n",
    "                'DEP_TIME_BLK']].head()"
   ]
  },
  {
   "cell_type": "code",
   "execution_count": 8,
   "metadata": {},
   "outputs": [
    {
     "data": {
      "text/html": [
       "<div>\n",
       "<style scoped>\n",
       "    .dataframe tbody tr th:only-of-type {\n",
       "        vertical-align: middle;\n",
       "    }\n",
       "\n",
       "    .dataframe tbody tr th {\n",
       "        vertical-align: top;\n",
       "    }\n",
       "\n",
       "    .dataframe thead th {\n",
       "        text-align: right;\n",
       "    }\n",
       "</style>\n",
       "<table border=\"1\" class=\"dataframe\">\n",
       "  <thead>\n",
       "    <tr style=\"text-align: right;\">\n",
       "      <th></th>\n",
       "      <th>TAXI_OUT</th>\n",
       "      <th>WHEELS_OFF</th>\n",
       "      <th>WHEELS_ON</th>\n",
       "      <th>TAXI_IN</th>\n",
       "      <th>CRS_ARR_TIME</th>\n",
       "      <th>ARR_TIME</th>\n",
       "      <th>ARR_DELAY</th>\n",
       "      <th>ARR_DELAY_NEW</th>\n",
       "      <th>ARR_DEL15</th>\n",
       "      <th>ARR_DELAY_GROUP</th>\n",
       "      <th>ARR_TIME_BLK</th>\n",
       "      <th>CANCELLED</th>\n",
       "      <th>CANCELLATION_CODE</th>\n",
       "    </tr>\n",
       "  </thead>\n",
       "  <tbody>\n",
       "    <tr>\n",
       "      <th>0</th>\n",
       "      <td>15.0</td>\n",
       "      <td>1112.0</td>\n",
       "      <td>1424.0</td>\n",
       "      <td>8.0</td>\n",
       "      <td>1438</td>\n",
       "      <td>1432.0</td>\n",
       "      <td>-6.0</td>\n",
       "      <td>0.0</td>\n",
       "      <td>0.0</td>\n",
       "      <td>-1.0</td>\n",
       "      <td>1400-1459</td>\n",
       "      <td>0.0</td>\n",
       "      <td>NaN</td>\n",
       "    </tr>\n",
       "    <tr>\n",
       "      <th>1</th>\n",
       "      <td>14.0</td>\n",
       "      <td>1110.0</td>\n",
       "      <td>1416.0</td>\n",
       "      <td>10.0</td>\n",
       "      <td>1438</td>\n",
       "      <td>1426.0</td>\n",
       "      <td>-12.0</td>\n",
       "      <td>0.0</td>\n",
       "      <td>0.0</td>\n",
       "      <td>-1.0</td>\n",
       "      <td>1400-1459</td>\n",
       "      <td>0.0</td>\n",
       "      <td>NaN</td>\n",
       "    </tr>\n",
       "    <tr>\n",
       "      <th>2</th>\n",
       "      <td>21.0</td>\n",
       "      <td>1116.0</td>\n",
       "      <td>1431.0</td>\n",
       "      <td>14.0</td>\n",
       "      <td>1438</td>\n",
       "      <td>1445.0</td>\n",
       "      <td>7.0</td>\n",
       "      <td>7.0</td>\n",
       "      <td>0.0</td>\n",
       "      <td>0.0</td>\n",
       "      <td>1400-1459</td>\n",
       "      <td>0.0</td>\n",
       "      <td>NaN</td>\n",
       "    </tr>\n",
       "    <tr>\n",
       "      <th>3</th>\n",
       "      <td>13.0</td>\n",
       "      <td>1115.0</td>\n",
       "      <td>1424.0</td>\n",
       "      <td>9.0</td>\n",
       "      <td>1438</td>\n",
       "      <td>1433.0</td>\n",
       "      <td>-5.0</td>\n",
       "      <td>0.0</td>\n",
       "      <td>0.0</td>\n",
       "      <td>-1.0</td>\n",
       "      <td>1400-1459</td>\n",
       "      <td>0.0</td>\n",
       "      <td>NaN</td>\n",
       "    </tr>\n",
       "    <tr>\n",
       "      <th>4</th>\n",
       "      <td>20.0</td>\n",
       "      <td>1300.0</td>\n",
       "      <td>1617.0</td>\n",
       "      <td>14.0</td>\n",
       "      <td>1438</td>\n",
       "      <td>1631.0</td>\n",
       "      <td>113.0</td>\n",
       "      <td>113.0</td>\n",
       "      <td>1.0</td>\n",
       "      <td>7.0</td>\n",
       "      <td>1400-1459</td>\n",
       "      <td>0.0</td>\n",
       "      <td>NaN</td>\n",
       "    </tr>\n",
       "  </tbody>\n",
       "</table>\n",
       "</div>"
      ],
      "text/plain": [
       "   TAXI_OUT  WHEELS_OFF  WHEELS_ON  TAXI_IN  CRS_ARR_TIME  ARR_TIME  \\\n",
       "0      15.0      1112.0     1424.0      8.0          1438    1432.0   \n",
       "1      14.0      1110.0     1416.0     10.0          1438    1426.0   \n",
       "2      21.0      1116.0     1431.0     14.0          1438    1445.0   \n",
       "3      13.0      1115.0     1424.0      9.0          1438    1433.0   \n",
       "4      20.0      1300.0     1617.0     14.0          1438    1631.0   \n",
       "\n",
       "   ARR_DELAY  ARR_DELAY_NEW  ARR_DEL15  ARR_DELAY_GROUP ARR_TIME_BLK  \\\n",
       "0       -6.0            0.0        0.0             -1.0    1400-1459   \n",
       "1      -12.0            0.0        0.0             -1.0    1400-1459   \n",
       "2        7.0            7.0        0.0              0.0    1400-1459   \n",
       "3       -5.0            0.0        0.0             -1.0    1400-1459   \n",
       "4      113.0          113.0        1.0              7.0    1400-1459   \n",
       "\n",
       "   CANCELLED CANCELLATION_CODE  \n",
       "0        0.0               NaN  \n",
       "1        0.0               NaN  \n",
       "2        0.0               NaN  \n",
       "3        0.0               NaN  \n",
       "4        0.0               NaN  "
      ]
     },
     "execution_count": 8,
     "metadata": {},
     "output_type": "execute_result"
    }
   ],
   "source": [
    "df['month_01'][['TAXI_OUT', 'WHEELS_OFF', 'WHEELS_ON', 'TAXI_IN', 'CRS_ARR_TIME', 'ARR_TIME', 'ARR_DELAY', \n",
    "                'ARR_DELAY_NEW', 'ARR_DEL15', 'ARR_DELAY_GROUP', 'ARR_TIME_BLK', 'CANCELLED', \n",
    "                'CANCELLATION_CODE']].head()"
   ]
  },
  {
   "cell_type": "code",
   "execution_count": 9,
   "metadata": {},
   "outputs": [
    {
     "data": {
      "text/html": [
       "<div>\n",
       "<style scoped>\n",
       "    .dataframe tbody tr th:only-of-type {\n",
       "        vertical-align: middle;\n",
       "    }\n",
       "\n",
       "    .dataframe tbody tr th {\n",
       "        vertical-align: top;\n",
       "    }\n",
       "\n",
       "    .dataframe thead th {\n",
       "        text-align: right;\n",
       "    }\n",
       "</style>\n",
       "<table border=\"1\" class=\"dataframe\">\n",
       "  <thead>\n",
       "    <tr style=\"text-align: right;\">\n",
       "      <th></th>\n",
       "      <th>DIVERTED</th>\n",
       "      <th>CRS_ELAPSED_TIME</th>\n",
       "      <th>ACTUAL_ELAPSED_TIME</th>\n",
       "      <th>AIR_TIME</th>\n",
       "      <th>FLIGHTS</th>\n",
       "      <th>DISTANCE</th>\n",
       "      <th>DISTANCE_GROUP</th>\n",
       "      <th>CARRIER_DELAY</th>\n",
       "      <th>WEATHER_DELAY</th>\n",
       "    </tr>\n",
       "  </thead>\n",
       "  <tbody>\n",
       "    <tr>\n",
       "      <th>0</th>\n",
       "      <td>0.0</td>\n",
       "      <td>158.0</td>\n",
       "      <td>155.0</td>\n",
       "      <td>132.0</td>\n",
       "      <td>1.0</td>\n",
       "      <td>986.0</td>\n",
       "      <td>4</td>\n",
       "      <td>NaN</td>\n",
       "      <td>NaN</td>\n",
       "    </tr>\n",
       "    <tr>\n",
       "      <th>1</th>\n",
       "      <td>0.0</td>\n",
       "      <td>158.0</td>\n",
       "      <td>150.0</td>\n",
       "      <td>126.0</td>\n",
       "      <td>1.0</td>\n",
       "      <td>986.0</td>\n",
       "      <td>4</td>\n",
       "      <td>NaN</td>\n",
       "      <td>NaN</td>\n",
       "    </tr>\n",
       "    <tr>\n",
       "      <th>2</th>\n",
       "      <td>0.0</td>\n",
       "      <td>158.0</td>\n",
       "      <td>170.0</td>\n",
       "      <td>135.0</td>\n",
       "      <td>1.0</td>\n",
       "      <td>986.0</td>\n",
       "      <td>4</td>\n",
       "      <td>NaN</td>\n",
       "      <td>NaN</td>\n",
       "    </tr>\n",
       "    <tr>\n",
       "      <th>3</th>\n",
       "      <td>0.0</td>\n",
       "      <td>158.0</td>\n",
       "      <td>151.0</td>\n",
       "      <td>129.0</td>\n",
       "      <td>1.0</td>\n",
       "      <td>986.0</td>\n",
       "      <td>4</td>\n",
       "      <td>NaN</td>\n",
       "      <td>NaN</td>\n",
       "    </tr>\n",
       "    <tr>\n",
       "      <th>4</th>\n",
       "      <td>0.0</td>\n",
       "      <td>158.0</td>\n",
       "      <td>171.0</td>\n",
       "      <td>137.0</td>\n",
       "      <td>1.0</td>\n",
       "      <td>986.0</td>\n",
       "      <td>4</td>\n",
       "      <td>0.0</td>\n",
       "      <td>0.0</td>\n",
       "    </tr>\n",
       "  </tbody>\n",
       "</table>\n",
       "</div>"
      ],
      "text/plain": [
       "   DIVERTED  CRS_ELAPSED_TIME  ACTUAL_ELAPSED_TIME  AIR_TIME  FLIGHTS  \\\n",
       "0       0.0             158.0                155.0     132.0      1.0   \n",
       "1       0.0             158.0                150.0     126.0      1.0   \n",
       "2       0.0             158.0                170.0     135.0      1.0   \n",
       "3       0.0             158.0                151.0     129.0      1.0   \n",
       "4       0.0             158.0                171.0     137.0      1.0   \n",
       "\n",
       "   DISTANCE  DISTANCE_GROUP  CARRIER_DELAY  WEATHER_DELAY  \n",
       "0     986.0               4            NaN            NaN  \n",
       "1     986.0               4            NaN            NaN  \n",
       "2     986.0               4            NaN            NaN  \n",
       "3     986.0               4            NaN            NaN  \n",
       "4     986.0               4            0.0            0.0  "
      ]
     },
     "execution_count": 9,
     "metadata": {},
     "output_type": "execute_result"
    }
   ],
   "source": [
    "df['month_01'][['DIVERTED', 'CRS_ELAPSED_TIME', 'ACTUAL_ELAPSED_TIME', 'AIR_TIME', 'FLIGHTS', 'DISTANCE', \n",
    "                'DISTANCE_GROUP', 'CARRIER_DELAY', 'WEATHER_DELAY']].head()"
   ]
  },
  {
   "cell_type": "code",
   "execution_count": 10,
   "metadata": {},
   "outputs": [
    {
     "data": {
      "text/html": [
       "<div>\n",
       "<style scoped>\n",
       "    .dataframe tbody tr th:only-of-type {\n",
       "        vertical-align: middle;\n",
       "    }\n",
       "\n",
       "    .dataframe tbody tr th {\n",
       "        vertical-align: top;\n",
       "    }\n",
       "\n",
       "    .dataframe thead th {\n",
       "        text-align: right;\n",
       "    }\n",
       "</style>\n",
       "<table border=\"1\" class=\"dataframe\">\n",
       "  <thead>\n",
       "    <tr style=\"text-align: right;\">\n",
       "      <th></th>\n",
       "      <th>NAS_DELAY</th>\n",
       "      <th>SECURITY_DELAY</th>\n",
       "      <th>LATE_AIRCRAFT_DELAY</th>\n",
       "      <th>FIRST_DEP_TIME</th>\n",
       "      <th>TOTAL_ADD_GTIME</th>\n",
       "      <th>LONGEST_ADD_GTIME</th>\n",
       "      <th>Unnamed: 64</th>\n",
       "    </tr>\n",
       "  </thead>\n",
       "  <tbody>\n",
       "    <tr>\n",
       "      <th>0</th>\n",
       "      <td>NaN</td>\n",
       "      <td>NaN</td>\n",
       "      <td>NaN</td>\n",
       "      <td>NaN</td>\n",
       "      <td>NaN</td>\n",
       "      <td>NaN</td>\n",
       "      <td>NaN</td>\n",
       "    </tr>\n",
       "    <tr>\n",
       "      <th>1</th>\n",
       "      <td>NaN</td>\n",
       "      <td>NaN</td>\n",
       "      <td>NaN</td>\n",
       "      <td>NaN</td>\n",
       "      <td>NaN</td>\n",
       "      <td>NaN</td>\n",
       "      <td>NaN</td>\n",
       "    </tr>\n",
       "    <tr>\n",
       "      <th>2</th>\n",
       "      <td>NaN</td>\n",
       "      <td>NaN</td>\n",
       "      <td>NaN</td>\n",
       "      <td>NaN</td>\n",
       "      <td>NaN</td>\n",
       "      <td>NaN</td>\n",
       "      <td>NaN</td>\n",
       "    </tr>\n",
       "    <tr>\n",
       "      <th>3</th>\n",
       "      <td>NaN</td>\n",
       "      <td>NaN</td>\n",
       "      <td>NaN</td>\n",
       "      <td>NaN</td>\n",
       "      <td>NaN</td>\n",
       "      <td>NaN</td>\n",
       "      <td>NaN</td>\n",
       "    </tr>\n",
       "    <tr>\n",
       "      <th>4</th>\n",
       "      <td>47.0</td>\n",
       "      <td>0.0</td>\n",
       "      <td>66.0</td>\n",
       "      <td>NaN</td>\n",
       "      <td>NaN</td>\n",
       "      <td>NaN</td>\n",
       "      <td>NaN</td>\n",
       "    </tr>\n",
       "  </tbody>\n",
       "</table>\n",
       "</div>"
      ],
      "text/plain": [
       "   NAS_DELAY  SECURITY_DELAY  LATE_AIRCRAFT_DELAY  FIRST_DEP_TIME  \\\n",
       "0        NaN             NaN                  NaN             NaN   \n",
       "1        NaN             NaN                  NaN             NaN   \n",
       "2        NaN             NaN                  NaN             NaN   \n",
       "3        NaN             NaN                  NaN             NaN   \n",
       "4       47.0             0.0                 66.0             NaN   \n",
       "\n",
       "   TOTAL_ADD_GTIME  LONGEST_ADD_GTIME  Unnamed: 64  \n",
       "0              NaN                NaN          NaN  \n",
       "1              NaN                NaN          NaN  \n",
       "2              NaN                NaN          NaN  \n",
       "3              NaN                NaN          NaN  \n",
       "4              NaN                NaN          NaN  "
      ]
     },
     "execution_count": 10,
     "metadata": {},
     "output_type": "execute_result"
    }
   ],
   "source": [
    "df['month_01'][['NAS_DELAY', 'SECURITY_DELAY', 'LATE_AIRCRAFT_DELAY', 'FIRST_DEP_TIME', 'TOTAL_ADD_GTIME', \n",
    "                'LONGEST_ADD_GTIME', 'Unnamed: 64']].head()"
   ]
  },
  {
   "cell_type": "markdown",
   "metadata": {},
   "source": [
    "#### Concatenation of the different dataframes"
   ]
  },
  {
   "cell_type": "code",
   "execution_count": 11,
   "metadata": {},
   "outputs": [
    {
     "data": {
      "text/plain": [
       "dict_keys(['month_01', 'month_02', 'month_03', 'month_04', 'month_05', 'month_06', 'month_07', 'month_08', 'month_09', 'month_10', 'month_11', 'month_12'])"
      ]
     },
     "execution_count": 11,
     "metadata": {},
     "output_type": "execute_result"
    }
   ],
   "source": [
    "df.keys()"
   ]
  },
  {
   "cell_type": "code",
   "execution_count": 12,
   "metadata": {},
   "outputs": [],
   "source": [
    "# Append all the values of the df dictionnary\n",
    "df_frames = []\n",
    "for val in df.values():\n",
    "    df_frames.append(val)"
   ]
  },
  {
   "cell_type": "markdown",
   "metadata": {},
   "source": [
    "##### Code"
   ]
  },
  {
   "cell_type": "code",
   "execution_count": 13,
   "metadata": {},
   "outputs": [],
   "source": [
    "# concatenate the different frames in df_flights\n",
    "df_concatenated = pd.concat(df_frames,ignore_index=True)"
   ]
  },
  {
   "cell_type": "code",
   "execution_count": 14,
   "metadata": {},
   "outputs": [],
   "source": [
    "# For the rest of the study hereunder we'll work on a COPY of the data for safety reasons\n",
    "df_flights = df_concatenated.copy() "
   ]
  },
  {
   "cell_type": "markdown",
   "metadata": {},
   "source": [
    "##### Test"
   ]
  },
  {
   "cell_type": "code",
   "execution_count": 15,
   "metadata": {},
   "outputs": [],
   "source": [
    "# Check size\n",
    "tot_amount_lines = 0\n",
    "for val in df.values():\n",
    "    tot_amount_lines = tot_amount_lines + val.shape[0]"
   ]
  },
  {
   "cell_type": "code",
   "execution_count": 16,
   "metadata": {},
   "outputs": [
    {
     "data": {
      "text/plain": [
       "True"
      ]
     },
     "execution_count": 16,
     "metadata": {},
     "output_type": "execute_result"
    }
   ],
   "source": [
    "# check with concatenated dataframe size\n",
    "df_flights.shape[0] == tot_amount_lines"
   ]
  },
  {
   "cell_type": "markdown",
   "metadata": {},
   "source": [
    "### General info"
   ]
  },
  {
   "cell_type": "markdown",
   "metadata": {},
   "source": [
    "#### 'UNIQUE_CARRIER', \t'AIRLINE_ID' and\t'CARRIER'"
   ]
  },
  {
   "cell_type": "code",
   "execution_count": 17,
   "metadata": {},
   "outputs": [
    {
     "data": {
      "text/html": [
       "<div>\n",
       "<style scoped>\n",
       "    .dataframe tbody tr th:only-of-type {\n",
       "        vertical-align: middle;\n",
       "    }\n",
       "\n",
       "    .dataframe tbody tr th {\n",
       "        vertical-align: top;\n",
       "    }\n",
       "\n",
       "    .dataframe thead th {\n",
       "        text-align: right;\n",
       "    }\n",
       "</style>\n",
       "<table border=\"1\" class=\"dataframe\">\n",
       "  <thead>\n",
       "    <tr style=\"text-align: right;\">\n",
       "      <th></th>\n",
       "      <th>UNIQUE_CARRIER</th>\n",
       "      <th>AIRLINE_ID</th>\n",
       "      <th>CARRIER</th>\n",
       "    </tr>\n",
       "  </thead>\n",
       "  <tbody>\n",
       "    <tr>\n",
       "      <th>1810646</th>\n",
       "      <td>10397</td>\n",
       "      <td>1039705</td>\n",
       "      <td>30397</td>\n",
       "    </tr>\n",
       "  </tbody>\n",
       "</table>\n",
       "</div>"
      ],
      "text/plain": [
       "        UNIQUE_CARRIER  AIRLINE_ID CARRIER\n",
       "1810646          10397     1039705   30397"
      ]
     },
     "execution_count": 17,
     "metadata": {},
     "output_type": "execute_result"
    }
   ],
   "source": [
    "df_flights.query('UNIQUE_CARRIER != CARRIER')[['UNIQUE_CARRIER','AIRLINE_ID','CARRIER']]"
   ]
  },
  {
   "cell_type": "code",
   "execution_count": 18,
   "metadata": {},
   "outputs": [
    {
     "data": {
      "text/html": [
       "<div>\n",
       "<style scoped>\n",
       "    .dataframe tbody tr th:only-of-type {\n",
       "        vertical-align: middle;\n",
       "    }\n",
       "\n",
       "    .dataframe tbody tr th {\n",
       "        vertical-align: top;\n",
       "    }\n",
       "\n",
       "    .dataframe thead th {\n",
       "        text-align: right;\n",
       "    }\n",
       "</style>\n",
       "<table border=\"1\" class=\"dataframe\">\n",
       "  <thead>\n",
       "    <tr style=\"text-align: right;\">\n",
       "      <th></th>\n",
       "      <th>UNIQUE_CARRIER</th>\n",
       "      <th>AIRLINE_ID</th>\n",
       "      <th>CARRIER</th>\n",
       "    </tr>\n",
       "  </thead>\n",
       "  <tbody>\n",
       "    <tr>\n",
       "      <th>490128</th>\n",
       "      <td>EV</td>\n",
       "      <td>20366</td>\n",
       "      <td>EV</td>\n",
       "    </tr>\n",
       "    <tr>\n",
       "      <th>658100</th>\n",
       "      <td>DL</td>\n",
       "      <td>19790</td>\n",
       "      <td>DL</td>\n",
       "    </tr>\n",
       "    <tr>\n",
       "      <th>4126475</th>\n",
       "      <td>WN</td>\n",
       "      <td>19393</td>\n",
       "      <td>WN</td>\n",
       "    </tr>\n",
       "    <tr>\n",
       "      <th>3027898</th>\n",
       "      <td>B6</td>\n",
       "      <td>20409</td>\n",
       "      <td>B6</td>\n",
       "    </tr>\n",
       "    <tr>\n",
       "      <th>1025818</th>\n",
       "      <td>WN</td>\n",
       "      <td>19393</td>\n",
       "      <td>WN</td>\n",
       "    </tr>\n",
       "    <tr>\n",
       "      <th>5530505</th>\n",
       "      <td>VX</td>\n",
       "      <td>21171</td>\n",
       "      <td>VX</td>\n",
       "    </tr>\n",
       "    <tr>\n",
       "      <th>1209821</th>\n",
       "      <td>UA</td>\n",
       "      <td>19977</td>\n",
       "      <td>UA</td>\n",
       "    </tr>\n",
       "    <tr>\n",
       "      <th>4999246</th>\n",
       "      <td>OO</td>\n",
       "      <td>20304</td>\n",
       "      <td>OO</td>\n",
       "    </tr>\n",
       "    <tr>\n",
       "      <th>5026596</th>\n",
       "      <td>UA</td>\n",
       "      <td>19977</td>\n",
       "      <td>UA</td>\n",
       "    </tr>\n",
       "    <tr>\n",
       "      <th>983716</th>\n",
       "      <td>F9</td>\n",
       "      <td>20436</td>\n",
       "      <td>F9</td>\n",
       "    </tr>\n",
       "  </tbody>\n",
       "</table>\n",
       "</div>"
      ],
      "text/plain": [
       "        UNIQUE_CARRIER  AIRLINE_ID CARRIER\n",
       "490128              EV       20366      EV\n",
       "658100              DL       19790      DL\n",
       "4126475             WN       19393      WN\n",
       "3027898             B6       20409      B6\n",
       "1025818             WN       19393      WN\n",
       "5530505             VX       21171      VX\n",
       "1209821             UA       19977      UA\n",
       "4999246             OO       20304      OO\n",
       "5026596             UA       19977      UA\n",
       "983716              F9       20436      F9"
      ]
     },
     "execution_count": 18,
     "metadata": {},
     "output_type": "execute_result"
    }
   ],
   "source": [
    "df_flights[['UNIQUE_CARRIER','AIRLINE_ID','CARRIER']].sample(10)"
   ]
  },
  {
   "cell_type": "code",
   "execution_count": 19,
   "metadata": {},
   "outputs": [
    {
     "data": {
      "text/plain": [
       "WN       1296854\n",
       "DL        970822\n",
       "AA        886058\n",
       "OO        604283\n",
       "UA        545067\n",
       "EV        503345\n",
       "B6        284667\n",
       "AS        166957\n",
       "NK        138199\n",
       "F9         95857\n",
       "HA         76536\n",
       "VX         67332\n",
       "10397          1\n",
       "Name: UNIQUE_CARRIER, dtype: int64"
      ]
     },
     "execution_count": 19,
     "metadata": {},
     "output_type": "execute_result"
    }
   ],
   "source": [
    "df_concatenated.UNIQUE_CARRIER.value_counts()"
   ]
  },
  {
   "cell_type": "code",
   "execution_count": 20,
   "metadata": {},
   "outputs": [
    {
     "data": {
      "text/plain": [
       "WN       1296854\n",
       "DL        970822\n",
       "AA        886058\n",
       "OO        604283\n",
       "UA        545067\n",
       "EV        503345\n",
       "B6        284667\n",
       "AS        166957\n",
       "NK        138199\n",
       "F9         95857\n",
       "HA         76536\n",
       "VX         67332\n",
       "30397          1\n",
       "Name: CARRIER, dtype: int64"
      ]
     },
     "execution_count": 20,
     "metadata": {},
     "output_type": "execute_result"
    }
   ],
   "source": [
    "df_concatenated.CARRIER.value_counts()"
   ]
  },
  {
   "cell_type": "code",
   "execution_count": 21,
   "metadata": {},
   "outputs": [
    {
     "data": {
      "text/plain": [
       "19393      1296854\n",
       "19790       970822\n",
       "19805       886058\n",
       "20304       604283\n",
       "19977       545067\n",
       "20366       503345\n",
       "20409       284667\n",
       "19930       166957\n",
       "20416       138199\n",
       "20436        95857\n",
       "19690        76536\n",
       "21171        67332\n",
       "1039705          1\n",
       "Name: AIRLINE_ID, dtype: int64"
      ]
     },
     "execution_count": 21,
     "metadata": {},
     "output_type": "execute_result"
    }
   ],
   "source": [
    "df_concatenated.AIRLINE_ID.value_counts()"
   ]
  },
  {
   "cell_type": "markdown",
   "metadata": {},
   "source": [
    "> Those 3 columns seems redundant, we'll keep only UNIQUE_CARRIER"
   ]
  },
  {
   "cell_type": "markdown",
   "metadata": {},
   "source": [
    "### First filtering of columns to keep"
   ]
  },
  {
   "cell_type": "code",
   "execution_count": 22,
   "metadata": {},
   "outputs": [],
   "source": [
    "filter_01 = ['YEAR','MONTH','DAY_OF_MONTH','DAY_OF_WEEK','FL_DATE','UNIQUE_CARRIER','TAIL_NUM', 'FL_NUM', 'ORIGIN_AIRPORT_ID', 'ORIGIN', \n",
    "  'ORIGIN_STATE_ABR', 'DEST_AIRPORT_ID', 'DEST', 'DEST_STATE_ABR', 'CRS_DEP_TIME', 'DEP_DELAY', \n",
    " 'TAXI_OUT', 'WHEELS_OFF', 'WHEELS_ON', 'TAXI_IN', 'CRS_ARR_TIME', 'ARR_DELAY', 'CANCELLED', 'CANCELLATION_CODE', \n",
    " 'DIVERTED','AIR_TIME', 'DISTANCE', 'CARRIER_DELAY','WEATHER_DELAY', 'NAS_DELAY', 'SECURITY_DELAY', \n",
    " 'LATE_AIRCRAFT_DELAY',]"
   ]
  },
  {
   "cell_type": "code",
   "execution_count": 23,
   "metadata": {},
   "outputs": [],
   "source": [
    "df_flights = df_flights[filter_01]"
   ]
  },
  {
   "cell_type": "code",
   "execution_count": 24,
   "metadata": {},
   "outputs": [
    {
     "name": "stdout",
     "output_type": "stream",
     "text": [
      "<class 'pandas.core.frame.DataFrame'>\n",
      "RangeIndex: 5635978 entries, 0 to 5635977\n",
      "Data columns (total 32 columns):\n",
      "YEAR                   object\n",
      "MONTH                  int64\n",
      "DAY_OF_MONTH           object\n",
      "DAY_OF_WEEK            object\n",
      "FL_DATE                object\n",
      "UNIQUE_CARRIER         object\n",
      "TAIL_NUM               object\n",
      "FL_NUM                 object\n",
      "ORIGIN_AIRPORT_ID      object\n",
      "ORIGIN                 object\n",
      "ORIGIN_STATE_ABR       object\n",
      "DEST_AIRPORT_ID        object\n",
      "DEST                   object\n",
      "DEST_STATE_ABR         object\n",
      "CRS_DEP_TIME           float64\n",
      "DEP_DELAY              float64\n",
      "TAXI_OUT               object\n",
      "WHEELS_OFF             float64\n",
      "WHEELS_ON              float64\n",
      "TAXI_IN                float64\n",
      "CRS_ARR_TIME           float64\n",
      "ARR_DELAY              float64\n",
      "CANCELLED              float64\n",
      "CANCELLATION_CODE      object\n",
      "DIVERTED               float64\n",
      "AIR_TIME               float64\n",
      "DISTANCE               float64\n",
      "CARRIER_DELAY          float64\n",
      "WEATHER_DELAY          float64\n",
      "NAS_DELAY              float64\n",
      "SECURITY_DELAY         float64\n",
      "LATE_AIRCRAFT_DELAY    float64\n",
      "dtypes: float64(16), int64(1), object(15)\n",
      "memory usage: 1.3+ GB\n"
     ]
    }
   ],
   "source": [
    "df_flights.info()"
   ]
  },
  {
   "cell_type": "markdown",
   "metadata": {},
   "source": [
    "### Missing Values"
   ]
  },
  {
   "cell_type": "code",
   "execution_count": 25,
   "metadata": {},
   "outputs": [
    {
     "data": {
      "text/plain": [
       "CANCELLATION_CODE      98.829396\n",
       "LATE_AIRCRAFT_DELAY    82.816824\n",
       "NAS_DELAY              82.816824\n",
       "WEATHER_DELAY          82.816824\n",
       "CARRIER_DELAY          82.816824\n",
       "SECURITY_DELAY         82.816824\n",
       "AIR_TIME                1.415602\n",
       "ARR_DELAY               1.415566\n",
       "TAXI_IN                 1.206233\n",
       "WHEELS_ON               1.206233\n",
       "TAXI_OUT                1.162584\n",
       "WHEELS_OFF              1.162584\n",
       "DEP_DELAY               1.127382\n",
       "TAIL_NUM                0.226225\n",
       "DISTANCE                0.000089\n",
       "DIVERTED                0.000071\n",
       "CRS_ARR_TIME            0.000053\n",
       "CANCELLED               0.000053\n",
       "DEST_STATE_ABR          0.000018\n",
       "DEST                    0.000018\n",
       "MONTH                   0.000000\n",
       "DAY_OF_MONTH            0.000000\n",
       "DAY_OF_WEEK             0.000000\n",
       "FL_DATE                 0.000000\n",
       "UNIQUE_CARRIER          0.000000\n",
       "ORIGIN                  0.000000\n",
       "FL_NUM                  0.000000\n",
       "ORIGIN_AIRPORT_ID       0.000000\n",
       "ORIGIN_STATE_ABR        0.000000\n",
       "DEST_AIRPORT_ID         0.000000\n",
       "CRS_DEP_TIME            0.000000\n",
       "YEAR                    0.000000\n",
       "dtype: float64"
      ]
     },
     "execution_count": 25,
     "metadata": {},
     "output_type": "execute_result"
    }
   ],
   "source": [
    "# Percentage of missing values\n",
    "(df_flights.isnull().sum().sort_values(ascending=False)/df_flights.shape[0])*100"
   ]
  },
  {
   "cell_type": "markdown",
   "metadata": {},
   "source": [
    "### Duplicates"
   ]
  },
  {
   "cell_type": "code",
   "execution_count": 26,
   "metadata": {},
   "outputs": [
    {
     "data": {
      "text/plain": [
       "0"
      ]
     },
     "execution_count": 26,
     "metadata": {},
     "output_type": "execute_result"
    }
   ],
   "source": [
    "df_flights.duplicated().sum()"
   ]
  },
  {
   "cell_type": "markdown",
   "metadata": {},
   "source": [
    "> No duplicates has been found"
   ]
  },
  {
   "cell_type": "markdown",
   "metadata": {},
   "source": [
    "#### First Comments"
   ]
  },
  {
   "cell_type": "markdown",
   "metadata": {},
   "source": [
    "- **First filtering the columns:**\n",
    "    - based on information found on : https://www.transtats.bts.gov/Fields.asp?Table_ID=236\n",
    "    - and first observations with visualisation of 5 first lines\n",
    "    \n",
    "- **Missing values :**\n",
    "    - For \"CANCELLATION_CODE\" over 98% of values missing\n",
    "    - For \"LATE_AIRCRAFT_DELAY\", \"NAS_DELAY\", \"WEATHER_DELAY\", \"CARRIER_DELAY\" and \"SECURITY DELAY\" over 82% missing\n",
    "    - All the rest have less than 1.5% of missing values\n",
    "    \n",
    "- **Duplicates :**\n",
    "    - No duplicates have been found\n",
    "- **Conversion of types :**\n",
    "    - 'YEAR', 'QUARTER', 'DAY_OF_MONTH', 'DAY_OF_WEEK4' conversion to int\n",
    "    - 'CANCELLED' and 'DIVERTED' conversion from floats to int\n",
    "    - 'CANCELLATION_CODE' to categorical data\n",
    "    \n",
    "- **Additional comments :**\n",
    "    - FL_DATE  is redundant, but for the moment we'll keep it (could be interesting with datetime in regression part)\n",
    "    - we'll only keep 'UNIQUE CARRIER' ('CARRIER' and 'AIRLINE_ID' are redundant)\n",
    "    - other redundant information as 'ORIGIN_STATE_FIPS', 'ORIGIN_STATE_NM', 'ORIGIN_WAC', we dropped from the study\n",
    "    - another example of redundancy = 'DEST_AIRPORT_SEQ_ID', 'DEST_CITY_MARKET_ID'\n",
    "    "
   ]
  },
  {
   "cell_type": "markdown",
   "metadata": {},
   "source": [
    "<a id='cleaning'></a>\n",
    "## Cleaning\n",
    "\n",
    "<a href=\"#table\">Table of Content</a>"
   ]
  },
  {
   "cell_type": "markdown",
   "metadata": {},
   "source": [
    "#### 1. Handling missing values: Delay types, CANCELLATION_CODE and TAIL_NUM"
   ]
  },
  {
   "cell_type": "markdown",
   "metadata": {},
   "source": [
    "##### Define"
   ]
  },
  {
   "cell_type": "markdown",
   "metadata": {},
   "source": [
    "> - We'll suppose that **missing values** for the different types of DELAY's mean that there wasn't any of this type of delay. Consequently, we'll replace those by zero."
   ]
  },
  {
   "cell_type": "markdown",
   "metadata": {},
   "source": [
    "##### Code"
   ]
  },
  {
   "cell_type": "code",
   "execution_count": 27,
   "metadata": {},
   "outputs": [],
   "source": [
    "# Types of Delays\n",
    "df_flights[['LATE_AIRCRAFT_DELAY','NAS_DELAY','WEATHER_DELAY','CARRIER_DELAY','SECURITY_DELAY']]=\\\n",
    "      df_flights[['LATE_AIRCRAFT_DELAY','NAS_DELAY','WEATHER_DELAY','CARRIER_DELAY','SECURITY_DELAY']].fillna(value=0)"
   ]
  },
  {
   "cell_type": "code",
   "execution_count": 28,
   "metadata": {},
   "outputs": [],
   "source": [
    "# TAIL_NUM\n",
    "df_flights['TAIL_NUM'] = df_flights['TAIL_NUM'].fillna(value='unknown')"
   ]
  },
  {
   "cell_type": "code",
   "execution_count": 29,
   "metadata": {},
   "outputs": [],
   "source": [
    "# CANCELLATION_CODE\n",
    "df_flights['CANCELLATION_CODE'] = df_flights['CANCELLATION_CODE'].fillna(value=' ') "
   ]
  },
  {
   "cell_type": "markdown",
   "metadata": {},
   "source": [
    "##### Test"
   ]
  },
  {
   "cell_type": "code",
   "execution_count": 30,
   "metadata": {},
   "outputs": [
    {
     "data": {
      "text/plain": [
       "LATE_AIRCRAFT_DELAY    0\n",
       "NAS_DELAY              0\n",
       "WEATHER_DELAY          0\n",
       "CARRIER_DELAY          0\n",
       "SECURITY_DELAY         0\n",
       "dtype: int64"
      ]
     },
     "execution_count": 30,
     "metadata": {},
     "output_type": "execute_result"
    }
   ],
   "source": [
    "# Types of delays\n",
    "df_flights[['LATE_AIRCRAFT_DELAY','NAS_DELAY','WEATHER_DELAY','CARRIER_DELAY','SECURITY_DELAY']].isnull().sum()"
   ]
  },
  {
   "cell_type": "code",
   "execution_count": 31,
   "metadata": {},
   "outputs": [
    {
     "data": {
      "text/plain": [
       "0"
      ]
     },
     "execution_count": 31,
     "metadata": {},
     "output_type": "execute_result"
    }
   ],
   "source": [
    "# TAIL_NUM\n",
    "df_flights['TAIL_NUM'].isnull().sum()"
   ]
  },
  {
   "cell_type": "markdown",
   "metadata": {},
   "source": [
    "#### 2. Handling missing values:  AIR_TIME, ARR_DELAY, CANCELLED ,  DIVERTED"
   ]
  },
  {
   "cell_type": "code",
   "execution_count": 32,
   "metadata": {},
   "outputs": [
    {
     "data": {
      "text/html": [
       "<div>\n",
       "<style scoped>\n",
       "    .dataframe tbody tr th:only-of-type {\n",
       "        vertical-align: middle;\n",
       "    }\n",
       "\n",
       "    .dataframe tbody tr th {\n",
       "        vertical-align: top;\n",
       "    }\n",
       "\n",
       "    .dataframe thead th {\n",
       "        text-align: right;\n",
       "    }\n",
       "</style>\n",
       "<table border=\"1\" class=\"dataframe\">\n",
       "  <thead>\n",
       "    <tr style=\"text-align: right;\">\n",
       "      <th></th>\n",
       "      <th>AIR_TIME</th>\n",
       "      <th>ACTUAL_ELAPSED_TIME</th>\n",
       "    </tr>\n",
       "  </thead>\n",
       "  <tbody>\n",
       "    <tr>\n",
       "      <th>818713</th>\n",
       "      <td>NaN</td>\n",
       "      <td>NaN</td>\n",
       "    </tr>\n",
       "    <tr>\n",
       "      <th>91436</th>\n",
       "      <td>NaN</td>\n",
       "      <td>NaN</td>\n",
       "    </tr>\n",
       "    <tr>\n",
       "      <th>66927</th>\n",
       "      <td>NaN</td>\n",
       "      <td>NaN</td>\n",
       "    </tr>\n",
       "  </tbody>\n",
       "</table>\n",
       "</div>"
      ],
      "text/plain": [
       "        AIR_TIME  ACTUAL_ELAPSED_TIME\n",
       "818713       NaN                  NaN\n",
       "91436        NaN                  NaN\n",
       "66927        NaN                  NaN"
      ]
     },
     "execution_count": 32,
     "metadata": {},
     "output_type": "execute_result"
    }
   ],
   "source": [
    "df_concatenated[df_flights.AIR_TIME.isnull()][['AIR_TIME','ACTUAL_ELAPSED_TIME']].sample(3)"
   ]
  },
  {
   "cell_type": "code",
   "execution_count": 33,
   "metadata": {},
   "outputs": [
    {
     "data": {
      "text/html": [
       "<div>\n",
       "<style scoped>\n",
       "    .dataframe tbody tr th:only-of-type {\n",
       "        vertical-align: middle;\n",
       "    }\n",
       "\n",
       "    .dataframe tbody tr th {\n",
       "        vertical-align: top;\n",
       "    }\n",
       "\n",
       "    .dataframe thead th {\n",
       "        text-align: right;\n",
       "    }\n",
       "</style>\n",
       "<table border=\"1\" class=\"dataframe\">\n",
       "  <thead>\n",
       "    <tr style=\"text-align: right;\">\n",
       "      <th></th>\n",
       "      <th>ARR_DELAY</th>\n",
       "      <th>CRS_ARR_TIME</th>\n",
       "      <th>ARR_TIME</th>\n",
       "      <th>ARR_DELAY_NEW</th>\n",
       "    </tr>\n",
       "  </thead>\n",
       "  <tbody>\n",
       "    <tr>\n",
       "      <th>3189629</th>\n",
       "      <td>NaN</td>\n",
       "      <td>957.0</td>\n",
       "      <td>NaN</td>\n",
       "      <td>NaN</td>\n",
       "    </tr>\n",
       "    <tr>\n",
       "      <th>4506993</th>\n",
       "      <td>NaN</td>\n",
       "      <td>1650.0</td>\n",
       "      <td>NaN</td>\n",
       "      <td>NaN</td>\n",
       "    </tr>\n",
       "    <tr>\n",
       "      <th>168334</th>\n",
       "      <td>NaN</td>\n",
       "      <td>810.0</td>\n",
       "      <td>NaN</td>\n",
       "      <td>NaN</td>\n",
       "    </tr>\n",
       "  </tbody>\n",
       "</table>\n",
       "</div>"
      ],
      "text/plain": [
       "         ARR_DELAY  CRS_ARR_TIME ARR_TIME  ARR_DELAY_NEW\n",
       "3189629        NaN         957.0      NaN            NaN\n",
       "4506993        NaN        1650.0      NaN            NaN\n",
       "168334         NaN         810.0      NaN            NaN"
      ]
     },
     "execution_count": 33,
     "metadata": {},
     "output_type": "execute_result"
    }
   ],
   "source": [
    "df_concatenated[df_flights.AIR_TIME.isnull()][['ARR_DELAY','CRS_ARR_TIME', 'ARR_TIME', 'ARR_DELAY_NEW']].sample(3)"
   ]
  },
  {
   "cell_type": "markdown",
   "metadata": {},
   "source": [
    "##### Define"
   ]
  },
  {
   "cell_type": "code",
   "execution_count": 34,
   "metadata": {},
   "outputs": [
    {
     "data": {
      "text/plain": [
       "AIR_TIME     79783\n",
       "ARR_DELAY    79781\n",
       "dtype: int64"
      ]
     },
     "execution_count": 34,
     "metadata": {},
     "output_type": "execute_result"
    }
   ],
   "source": [
    "# AIR_TIME and ARR_DELAY total amount of missing values\n",
    "df_flights[['AIR_TIME','ARR_DELAY']].isnull().sum()"
   ]
  },
  {
   "cell_type": "code",
   "execution_count": 35,
   "metadata": {},
   "outputs": [
    {
     "data": {
      "text/plain": [
       "AIR_TIME     65973\n",
       "ARR_DELAY    65973\n",
       "dtype: int64"
      ]
     },
     "execution_count": 35,
     "metadata": {},
     "output_type": "execute_result"
    }
   ],
   "source": [
    "# For CANCELLED Flights\n",
    "df_flights.query('CANCELLED ==1')[['AIR_TIME','ARR_DELAY']].isnull().sum()"
   ]
  },
  {
   "cell_type": "code",
   "execution_count": 36,
   "metadata": {},
   "outputs": [
    {
     "data": {
      "text/plain": [
       "AIR_TIME     13805\n",
       "ARR_DELAY    13805\n",
       "dtype: int64"
      ]
     },
     "execution_count": 36,
     "metadata": {},
     "output_type": "execute_result"
    }
   ],
   "source": [
    "# For a non-CANCELLED Flights\n",
    "df_flights.query('CANCELLED ==0')[['AIR_TIME','ARR_DELAY']].isnull().sum()"
   ]
  },
  {
   "cell_type": "markdown",
   "metadata": {},
   "source": [
    "##### Code"
   ]
  },
  {
   "cell_type": "code",
   "execution_count": 37,
   "metadata": {},
   "outputs": [],
   "source": [
    "# Drop the rows with na values\n",
    "df_flights = df_flights.dropna(subset=['CANCELLED','DIVERTED'])"
   ]
  },
  {
   "cell_type": "code",
   "execution_count": 38,
   "metadata": {},
   "outputs": [
    {
     "data": {
      "text/html": [
       "<div>\n",
       "<style scoped>\n",
       "    .dataframe tbody tr th:only-of-type {\n",
       "        vertical-align: middle;\n",
       "    }\n",
       "\n",
       "    .dataframe tbody tr th {\n",
       "        vertical-align: top;\n",
       "    }\n",
       "\n",
       "    .dataframe thead th {\n",
       "        text-align: right;\n",
       "    }\n",
       "</style>\n",
       "<table border=\"1\" class=\"dataframe\">\n",
       "  <thead>\n",
       "    <tr style=\"text-align: right;\">\n",
       "      <th></th>\n",
       "      <th>CANCELLED</th>\n",
       "      <th>AIR_TIME</th>\n",
       "      <th>ARR_DELAY</th>\n",
       "    </tr>\n",
       "  </thead>\n",
       "  <tbody>\n",
       "    <tr>\n",
       "      <th>4216023</th>\n",
       "      <td>1.0</td>\n",
       "      <td>NaN</td>\n",
       "      <td>NaN</td>\n",
       "    </tr>\n",
       "    <tr>\n",
       "      <th>4990640</th>\n",
       "      <td>1.0</td>\n",
       "      <td>NaN</td>\n",
       "      <td>NaN</td>\n",
       "    </tr>\n",
       "    <tr>\n",
       "      <th>753104</th>\n",
       "      <td>1.0</td>\n",
       "      <td>NaN</td>\n",
       "      <td>NaN</td>\n",
       "    </tr>\n",
       "    <tr>\n",
       "      <th>1039137</th>\n",
       "      <td>1.0</td>\n",
       "      <td>NaN</td>\n",
       "      <td>NaN</td>\n",
       "    </tr>\n",
       "    <tr>\n",
       "      <th>2511693</th>\n",
       "      <td>1.0</td>\n",
       "      <td>NaN</td>\n",
       "      <td>NaN</td>\n",
       "    </tr>\n",
       "    <tr>\n",
       "      <th>411530</th>\n",
       "      <td>1.0</td>\n",
       "      <td>NaN</td>\n",
       "      <td>NaN</td>\n",
       "    </tr>\n",
       "    <tr>\n",
       "      <th>3262101</th>\n",
       "      <td>1.0</td>\n",
       "      <td>NaN</td>\n",
       "      <td>NaN</td>\n",
       "    </tr>\n",
       "    <tr>\n",
       "      <th>1642069</th>\n",
       "      <td>1.0</td>\n",
       "      <td>NaN</td>\n",
       "      <td>NaN</td>\n",
       "    </tr>\n",
       "    <tr>\n",
       "      <th>218554</th>\n",
       "      <td>1.0</td>\n",
       "      <td>NaN</td>\n",
       "      <td>NaN</td>\n",
       "    </tr>\n",
       "    <tr>\n",
       "      <th>469544</th>\n",
       "      <td>1.0</td>\n",
       "      <td>NaN</td>\n",
       "      <td>NaN</td>\n",
       "    </tr>\n",
       "  </tbody>\n",
       "</table>\n",
       "</div>"
      ],
      "text/plain": [
       "         CANCELLED  AIR_TIME  ARR_DELAY\n",
       "4216023        1.0       NaN        NaN\n",
       "4990640        1.0       NaN        NaN\n",
       "753104         1.0       NaN        NaN\n",
       "1039137        1.0       NaN        NaN\n",
       "2511693        1.0       NaN        NaN\n",
       "411530         1.0       NaN        NaN\n",
       "3262101        1.0       NaN        NaN\n",
       "1642069        1.0       NaN        NaN\n",
       "218554         1.0       NaN        NaN\n",
       "469544         1.0       NaN        NaN"
      ]
     },
     "execution_count": 38,
     "metadata": {},
     "output_type": "execute_result"
    }
   ],
   "source": [
    "# Let's have a look at 'AIRTIME' and 'ARR_DELAY'\n",
    "df_flights[df_flights.AIR_TIME.isnull()].query('CANCELLED == 1')[['CANCELLED','AIR_TIME','ARR_DELAY']].sample(10)"
   ]
  },
  {
   "cell_type": "markdown",
   "metadata": {},
   "source": [
    ">- We see that a lot of **cancelled flights** have NaN as value for **AIR_TIME and ARR_DELAY**, we'll replace them by a value which is easy to recognize => **-999** .\n",
    ">- We'll drop only the lines representing non-cancelled flights with missing values for AIR_TIME "
   ]
  },
  {
   "cell_type": "code",
   "execution_count": 39,
   "metadata": {},
   "outputs": [],
   "source": [
    "df_flights[['AIR_TIME','ARR_DELAY']]=\\\n",
    "      df_flights[['AIR_TIME','ARR_DELAY']].fillna(value=-999)"
   ]
  },
  {
   "cell_type": "code",
   "execution_count": 40,
   "metadata": {},
   "outputs": [],
   "source": [
    "df_flights = df_flights.drop(df_flights[(df_flights.CANCELLED == 0) & (df_flights.AIR_TIME==-999)].index)"
   ]
  },
  {
   "cell_type": "markdown",
   "metadata": {},
   "source": [
    "##### Test"
   ]
  },
  {
   "cell_type": "code",
   "execution_count": 41,
   "metadata": {},
   "outputs": [
    {
     "data": {
      "text/plain": [
       "CANCELLED    0\n",
       "DIVERTED     0\n",
       "dtype: int64"
      ]
     },
     "execution_count": 41,
     "metadata": {},
     "output_type": "execute_result"
    }
   ],
   "source": [
    "df_flights[['CANCELLED','DIVERTED']].isnull().sum()"
   ]
  },
  {
   "cell_type": "code",
   "execution_count": 42,
   "metadata": {},
   "outputs": [
    {
     "name": "stdout",
     "output_type": "stream",
     "text": [
      "0\n",
      "65973\n",
      "0\n",
      "65973\n"
     ]
    }
   ],
   "source": [
    "print(df_flights.query('(AIR_TIME==-999) & (CANCELLED ==0)').AIR_TIME.count())\n",
    "print(df_flights.query('(AIR_TIME==-999) & (CANCELLED ==1)').AIR_TIME.count())\n",
    "print(df_flights.query('(ARR_DELAY==-999) & (CANCELLED ==0)').AIR_TIME.count())\n",
    "print(df_flights.query('(ARR_DELAY==-999) & (CANCELLED ==1)').AIR_TIME.count())"
   ]
  },
  {
   "cell_type": "markdown",
   "metadata": {},
   "source": [
    "#### 3. Handling missing values: TAXI_OUT, TAXI_IN, WHEELS_ON, WHEELS_OUT"
   ]
  },
  {
   "cell_type": "markdown",
   "metadata": {},
   "source": [
    "##### Define"
   ]
  },
  {
   "cell_type": "markdown",
   "metadata": {},
   "source": [
    "- We'll replace them by a value which is easy to recognize => **-999** .\n",
    "- We'll drop only the lines representing non-cancelled flights with missing values for features "
   ]
  },
  {
   "cell_type": "markdown",
   "metadata": {},
   "source": [
    "##### Code"
   ]
  },
  {
   "cell_type": "code",
   "execution_count": 43,
   "metadata": {},
   "outputs": [],
   "source": [
    "df_flights[['DEP_DELAY','TAXI_OUT','TAXI_IN','WHEELS_ON','WHEELS_OFF']]=\\\n",
    "      df_flights[['DEP_DELAY','TAXI_OUT','TAXI_IN','WHEELS_ON','WHEELS_OFF']].fillna(value=-999)"
   ]
  },
  {
   "cell_type": "code",
   "execution_count": 44,
   "metadata": {},
   "outputs": [],
   "source": [
    "df_flights = df_flights.drop(df_flights[(df_flights.CANCELLED == 0) & (df_flights.DEP_DELAY==-999)].index)\n",
    "df_flights = df_flights.drop(df_flights[(df_flights.CANCELLED == 0) & (df_flights.TAXI_OUT==-999)].index)\n",
    "df_flights = df_flights.drop(df_flights[(df_flights.CANCELLED == 0) & (df_flights.TAXI_IN==-999)].index)\n",
    "df_flights = df_flights.drop(df_flights[(df_flights.CANCELLED == 0) & (df_flights.WHEELS_ON==-999)].index)\n",
    "df_flights = df_flights.drop(df_flights[(df_flights.CANCELLED == 0) & (df_flights.WHEELS_OFF==-999)].index)"
   ]
  },
  {
   "cell_type": "code",
   "execution_count": 45,
   "metadata": {},
   "outputs": [
    {
     "name": "stdout",
     "output_type": "stream",
     "text": [
      "0\n",
      "63538\n",
      "0\n",
      "65973\n",
      "0\n",
      "65973\n",
      "0\n",
      "65521\n"
     ]
    }
   ],
   "source": [
    "print(df_flights.query('(DEP_DELAY==-999) & (CANCELLED ==0)').AIR_TIME.count())\n",
    "print(df_flights.query('(DEP_DELAY==-999) & (CANCELLED ==1)').AIR_TIME.count())\n",
    "print(df_flights.query('(TAXI_IN==-999) & (CANCELLED ==0)').AIR_TIME.count())\n",
    "print(df_flights.query('(TAXI_IN==-999) & (CANCELLED ==1)').AIR_TIME.count())\n",
    "print(df_flights.query('(WHEELS_ON==-999) & (CANCELLED ==0)').AIR_TIME.count())\n",
    "print(df_flights.query('(WHEELS_ON==-999) & (CANCELLED ==1)').AIR_TIME.count())\n",
    "print(df_flights.query('(WHEELS_OFF==-999) & (CANCELLED ==0)').AIR_TIME.count())\n",
    "print(df_flights.query('(WHEELS_OFF==-999) & (CANCELLED ==1)').AIR_TIME.count())"
   ]
  },
  {
   "cell_type": "markdown",
   "metadata": {},
   "source": [
    "#### Let's have a quick check on current status of missing values"
   ]
  },
  {
   "cell_type": "code",
   "execution_count": 46,
   "metadata": {},
   "outputs": [
    {
     "data": {
      "text/plain": [
       "DISTANCE               0.000018\n",
       "LATE_AIRCRAFT_DELAY    0.000000\n",
       "CRS_DEP_TIME           0.000000\n",
       "MONTH                  0.000000\n",
       "DAY_OF_MONTH           0.000000\n",
       "DAY_OF_WEEK            0.000000\n",
       "FL_DATE                0.000000\n",
       "UNIQUE_CARRIER         0.000000\n",
       "TAIL_NUM               0.000000\n",
       "FL_NUM                 0.000000\n",
       "ORIGIN_AIRPORT_ID      0.000000\n",
       "ORIGIN                 0.000000\n",
       "ORIGIN_STATE_ABR       0.000000\n",
       "DEST_AIRPORT_ID        0.000000\n",
       "DEST                   0.000000\n",
       "DEST_STATE_ABR         0.000000\n",
       "DEP_DELAY              0.000000\n",
       "SECURITY_DELAY         0.000000\n",
       "TAXI_OUT               0.000000\n",
       "WHEELS_OFF             0.000000\n",
       "WHEELS_ON              0.000000\n",
       "TAXI_IN                0.000000\n",
       "CRS_ARR_TIME           0.000000\n",
       "ARR_DELAY              0.000000\n",
       "CANCELLED              0.000000\n",
       "CANCELLATION_CODE      0.000000\n",
       "DIVERTED               0.000000\n",
       "AIR_TIME               0.000000\n",
       "CARRIER_DELAY          0.000000\n",
       "WEATHER_DELAY          0.000000\n",
       "NAS_DELAY              0.000000\n",
       "YEAR                   0.000000\n",
       "dtype: float64"
      ]
     },
     "execution_count": 46,
     "metadata": {},
     "output_type": "execute_result"
    }
   ],
   "source": [
    "# Percentage of missing values\n",
    "(df_flights.isnull().sum().sort_values(ascending=False)/df_flights.shape[0])*100"
   ]
  },
  {
   "cell_type": "markdown",
   "metadata": {},
   "source": [
    "#### 4. Conversion from float to int"
   ]
  },
  {
   "cell_type": "code",
   "execution_count": 47,
   "metadata": {},
   "outputs": [],
   "source": [
    "col_to_int = ['YEAR','DAY_OF_MONTH','DAY_OF_WEEK','CRS_DEP_TIME','DEP_DELAY','CRS_ARR_TIME','ARR_DELAY','CANCELLED',\n",
    "              'DIVERTED','AIR_TIME','DISTANCE','CARRIER_DELAY','WEATHER_DELAY','NAS_DELAY','SECURITY_DELAY',\n",
    "              'LATE_AIRCRAFT_DELAY']"
   ]
  },
  {
   "cell_type": "markdown",
   "metadata": {},
   "source": [
    "##### Define"
   ]
  },
  {
   "cell_type": "markdown",
   "metadata": {},
   "source": [
    "We'll convert the features from **col_to_int** from float to int"
   ]
  },
  {
   "cell_type": "markdown",
   "metadata": {},
   "source": [
    "##### Code"
   ]
  },
  {
   "cell_type": "code",
   "execution_count": 48,
   "metadata": {},
   "outputs": [
    {
     "data": {
      "text/plain": [
       "2016        5143195\n",
       "2016         478973\n",
       "16-03-04          1\n",
       "Name: YEAR, dtype: int64"
      ]
     },
     "execution_count": 48,
     "metadata": {},
     "output_type": "execute_result"
    }
   ],
   "source": [
    "# first clean line with '16-03-04'\n",
    "df_flights.YEAR.value_counts()"
   ]
  },
  {
   "cell_type": "code",
   "execution_count": 49,
   "metadata": {},
   "outputs": [
    {
     "data": {
      "text/plain": [
       "0.0     5556195\n",
       "1.0       65973\n",
       "48.0          1\n",
       "Name: CANCELLED, dtype: int64"
      ]
     },
     "execution_count": 49,
     "metadata": {},
     "output_type": "execute_result"
    }
   ],
   "source": [
    "df_flights.CANCELLED.value_counts()"
   ]
  },
  {
   "cell_type": "code",
   "execution_count": 50,
   "metadata": {},
   "outputs": [
    {
     "data": {
      "text/html": [
       "<div>\n",
       "<style scoped>\n",
       "    .dataframe tbody tr th:only-of-type {\n",
       "        vertical-align: middle;\n",
       "    }\n",
       "\n",
       "    .dataframe tbody tr th {\n",
       "        vertical-align: top;\n",
       "    }\n",
       "\n",
       "    .dataframe thead th {\n",
       "        text-align: right;\n",
       "    }\n",
       "</style>\n",
       "<table border=\"1\" class=\"dataframe\">\n",
       "  <thead>\n",
       "    <tr style=\"text-align: right;\">\n",
       "      <th></th>\n",
       "      <th>YEAR</th>\n",
       "      <th>MONTH</th>\n",
       "      <th>DAY_OF_MONTH</th>\n",
       "      <th>DAY_OF_WEEK</th>\n",
       "      <th>FL_DATE</th>\n",
       "      <th>UNIQUE_CARRIER</th>\n",
       "      <th>TAIL_NUM</th>\n",
       "      <th>FL_NUM</th>\n",
       "      <th>ORIGIN_AIRPORT_ID</th>\n",
       "      <th>ORIGIN</th>\n",
       "      <th>...</th>\n",
       "      <th>CANCELLED</th>\n",
       "      <th>CANCELLATION_CODE</th>\n",
       "      <th>DIVERTED</th>\n",
       "      <th>AIR_TIME</th>\n",
       "      <th>DISTANCE</th>\n",
       "      <th>CARRIER_DELAY</th>\n",
       "      <th>WEATHER_DELAY</th>\n",
       "      <th>NAS_DELAY</th>\n",
       "      <th>SECURITY_DELAY</th>\n",
       "      <th>LATE_AIRCRAFT_DELAY</th>\n",
       "    </tr>\n",
       "  </thead>\n",
       "  <tbody>\n",
       "    <tr>\n",
       "      <th>1810646</th>\n",
       "      <td>16-03-04</td>\n",
       "      <td>20366</td>\n",
       "      <td>EV</td>\n",
       "      <td>N707EV</td>\n",
       "      <td>5059</td>\n",
       "      <td>10397</td>\n",
       "      <td>ATL</td>\n",
       "      <td>Atlanta, GA</td>\n",
       "      <td>GA</td>\n",
       "      <td>34</td>\n",
       "      <td>...</td>\n",
       "      <td>48.0</td>\n",
       "      <td>1.00</td>\n",
       "      <td>300.0</td>\n",
       "      <td>-999.0</td>\n",
       "      <td>NaN</td>\n",
       "      <td>0.0</td>\n",
       "      <td>0.0</td>\n",
       "      <td>0.0</td>\n",
       "      <td>0.0</td>\n",
       "      <td>0.0</td>\n",
       "    </tr>\n",
       "  </tbody>\n",
       "</table>\n",
       "<p>1 rows × 32 columns</p>\n",
       "</div>"
      ],
      "text/plain": [
       "             YEAR  MONTH DAY_OF_MONTH DAY_OF_WEEK FL_DATE UNIQUE_CARRIER  \\\n",
       "1810646  16-03-04  20366           EV      N707EV    5059          10397   \n",
       "\n",
       "        TAIL_NUM       FL_NUM ORIGIN_AIRPORT_ID ORIGIN  ... CANCELLED  \\\n",
       "1810646      ATL  Atlanta, GA                GA     34  ...      48.0   \n",
       "\n",
       "        CANCELLATION_CODE DIVERTED AIR_TIME  DISTANCE  CARRIER_DELAY  \\\n",
       "1810646              1.00    300.0   -999.0       NaN            0.0   \n",
       "\n",
       "        WEATHER_DELAY  NAS_DELAY  SECURITY_DELAY  LATE_AIRCRAFT_DELAY  \n",
       "1810646           0.0        0.0             0.0                  0.0  \n",
       "\n",
       "[1 rows x 32 columns]"
      ]
     },
     "execution_count": 50,
     "metadata": {},
     "output_type": "execute_result"
    }
   ],
   "source": [
    "df_flights.query('YEAR ==\"16-03-04\"')"
   ]
  },
  {
   "cell_type": "code",
   "execution_count": 51,
   "metadata": {},
   "outputs": [],
   "source": [
    "df_flights = df_flights.drop(df_flights[df_flights.YEAR ==\"16-03-04\"].index)"
   ]
  },
  {
   "cell_type": "code",
   "execution_count": 52,
   "metadata": {},
   "outputs": [],
   "source": [
    "df_flights[col_to_int] = df_flights[col_to_int].astype('int')"
   ]
  },
  {
   "cell_type": "code",
   "execution_count": 53,
   "metadata": {},
   "outputs": [],
   "source": [
    "df_flights.TAXI_OUT = df_flights.TAXI_OUT.astype('float')"
   ]
  },
  {
   "cell_type": "code",
   "execution_count": 54,
   "metadata": {},
   "outputs": [],
   "source": [
    "df_flights[['TAXI_OUT','TAXI_IN','WHEELS_ON','WHEELS_OFF']] = \\\n",
    "    df_flights[['TAXI_OUT','TAXI_IN','WHEELS_ON','WHEELS_OFF']].astype('int')"
   ]
  },
  {
   "cell_type": "markdown",
   "metadata": {},
   "source": [
    "##### Test"
   ]
  },
  {
   "cell_type": "code",
   "execution_count": 55,
   "metadata": {},
   "outputs": [
    {
     "name": "stdout",
     "output_type": "stream",
     "text": [
      "<class 'pandas.core.frame.DataFrame'>\n",
      "Int64Index: 5622168 entries, 0 to 5635977\n",
      "Data columns (total 16 columns):\n",
      "YEAR                   int64\n",
      "DAY_OF_MONTH           int64\n",
      "DAY_OF_WEEK            int64\n",
      "CRS_DEP_TIME           int64\n",
      "DEP_DELAY              int64\n",
      "CRS_ARR_TIME           int64\n",
      "ARR_DELAY              int64\n",
      "CANCELLED              int64\n",
      "DIVERTED               int64\n",
      "AIR_TIME               int64\n",
      "DISTANCE               int64\n",
      "CARRIER_DELAY          int64\n",
      "WEATHER_DELAY          int64\n",
      "NAS_DELAY              int64\n",
      "SECURITY_DELAY         int64\n",
      "LATE_AIRCRAFT_DELAY    int64\n",
      "dtypes: int64(16)\n",
      "memory usage: 729.2 MB\n"
     ]
    }
   ],
   "source": [
    "df_flights[col_to_int].info()"
   ]
  },
  {
   "cell_type": "code",
   "execution_count": 56,
   "metadata": {
    "scrolled": true
   },
   "outputs": [
    {
     "name": "stdout",
     "output_type": "stream",
     "text": [
      "<class 'pandas.core.frame.DataFrame'>\n",
      "Int64Index: 5622168 entries, 0 to 5635977\n",
      "Data columns (total 4 columns):\n",
      "TAXI_OUT      int64\n",
      "TAXI_IN       int64\n",
      "WHEELS_ON     int64\n",
      "WHEELS_OFF    int64\n",
      "dtypes: int64(4)\n",
      "memory usage: 214.5 MB\n"
     ]
    }
   ],
   "source": [
    "df_flights[['TAXI_OUT','TAXI_IN','WHEELS_ON','WHEELS_OFF']].info()"
   ]
  },
  {
   "cell_type": "markdown",
   "metadata": {},
   "source": [
    "#### 5. Adding columns with rounded departure and arrival hours"
   ]
  },
  {
   "cell_type": "markdown",
   "metadata": {},
   "source": [
    "##### Define"
   ]
  },
  {
   "cell_type": "code",
   "execution_count": 57,
   "metadata": {},
   "outputs": [
    {
     "data": {
      "text/plain": [
       "2643293     831\n",
       "4063142    1010\n",
       "1508997    1920\n",
       "1846603    2212\n",
       "945413     2102\n",
       "Name: CRS_DEP_TIME, dtype: int64"
      ]
     },
     "execution_count": 57,
     "metadata": {},
     "output_type": "execute_result"
    }
   ],
   "source": [
    "df_flights['CRS_DEP_TIME'].sample(5)"
   ]
  },
  {
   "cell_type": "markdown",
   "metadata": {},
   "source": [
    "##### Code"
   ]
  },
  {
   "cell_type": "code",
   "execution_count": 58,
   "metadata": {},
   "outputs": [],
   "source": [
    "df_flights['DEP_HOUR'] = (df_flights['CRS_DEP_TIME']/100).round(0).astype('int')\n",
    "df_flights['ARR_HOUR'] = (df_flights['CRS_ARR_TIME']/100).round(0).astype('int')"
   ]
  },
  {
   "cell_type": "markdown",
   "metadata": {},
   "source": [
    "##### Test"
   ]
  },
  {
   "cell_type": "code",
   "execution_count": 59,
   "metadata": {},
   "outputs": [
    {
     "data": {
      "text/html": [
       "<div>\n",
       "<style scoped>\n",
       "    .dataframe tbody tr th:only-of-type {\n",
       "        vertical-align: middle;\n",
       "    }\n",
       "\n",
       "    .dataframe tbody tr th {\n",
       "        vertical-align: top;\n",
       "    }\n",
       "\n",
       "    .dataframe thead th {\n",
       "        text-align: right;\n",
       "    }\n",
       "</style>\n",
       "<table border=\"1\" class=\"dataframe\">\n",
       "  <thead>\n",
       "    <tr style=\"text-align: right;\">\n",
       "      <th></th>\n",
       "      <th>DEP_HOUR</th>\n",
       "      <th>CRS_DEP_TIME</th>\n",
       "      <th>ARR_HOUR</th>\n",
       "      <th>CRS_ARR_TIME</th>\n",
       "    </tr>\n",
       "  </thead>\n",
       "  <tbody>\n",
       "    <tr>\n",
       "      <th>861316</th>\n",
       "      <td>12</td>\n",
       "      <td>1225</td>\n",
       "      <td>13</td>\n",
       "      <td>1345</td>\n",
       "    </tr>\n",
       "    <tr>\n",
       "      <th>939930</th>\n",
       "      <td>16</td>\n",
       "      <td>1627</td>\n",
       "      <td>16</td>\n",
       "      <td>1635</td>\n",
       "    </tr>\n",
       "    <tr>\n",
       "      <th>3942122</th>\n",
       "      <td>9</td>\n",
       "      <td>925</td>\n",
       "      <td>11</td>\n",
       "      <td>1058</td>\n",
       "    </tr>\n",
       "    <tr>\n",
       "      <th>5353922</th>\n",
       "      <td>9</td>\n",
       "      <td>945</td>\n",
       "      <td>13</td>\n",
       "      <td>1312</td>\n",
       "    </tr>\n",
       "    <tr>\n",
       "      <th>1898261</th>\n",
       "      <td>11</td>\n",
       "      <td>1105</td>\n",
       "      <td>14</td>\n",
       "      <td>1350</td>\n",
       "    </tr>\n",
       "  </tbody>\n",
       "</table>\n",
       "</div>"
      ],
      "text/plain": [
       "         DEP_HOUR  CRS_DEP_TIME  ARR_HOUR  CRS_ARR_TIME\n",
       "861316         12          1225        13          1345\n",
       "939930         16          1627        16          1635\n",
       "3942122         9           925        11          1058\n",
       "5353922         9           945        13          1312\n",
       "1898261        11          1105        14          1350"
      ]
     },
     "execution_count": 59,
     "metadata": {},
     "output_type": "execute_result"
    }
   ],
   "source": [
    "df_flights[['DEP_HOUR','CRS_DEP_TIME','ARR_HOUR','CRS_ARR_TIME']].sample(5)"
   ]
  },
  {
   "cell_type": "markdown",
   "metadata": {},
   "source": [
    "### Let's have a look at potential Outliers "
   ]
  },
  {
   "cell_type": "code",
   "execution_count": 60,
   "metadata": {},
   "outputs": [
    {
     "name": "stdout",
     "output_type": "stream",
     "text": [
      "['YEAR', 'MONTH', 'DAY_OF_MONTH', 'DAY_OF_WEEK', 'FL_DATE', 'UNIQUE_CARRIER', 'TAIL_NUM', 'FL_NUM', 'ORIGIN_AIRPORT_ID', 'ORIGIN', 'ORIGIN_STATE_ABR', 'DEST_AIRPORT_ID', 'DEST', 'DEST_STATE_ABR', 'CRS_DEP_TIME', 'DEP_DELAY', 'TAXI_OUT', 'WHEELS_OFF', 'WHEELS_ON', 'TAXI_IN', 'CRS_ARR_TIME', 'ARR_DELAY', 'CANCELLED', 'CANCELLATION_CODE', 'DIVERTED', 'AIR_TIME', 'DISTANCE', 'CARRIER_DELAY', 'WEATHER_DELAY', 'NAS_DELAY', 'SECURITY_DELAY', 'LATE_AIRCRAFT_DELAY', 'DEP_HOUR', 'ARR_HOUR']\n"
     ]
    }
   ],
   "source": [
    "print(df_flights.columns.tolist())"
   ]
  },
  {
   "cell_type": "markdown",
   "metadata": {},
   "source": [
    "#### DISTANCE"
   ]
  },
  {
   "cell_type": "code",
   "execution_count": 61,
   "metadata": {},
   "outputs": [
    {
     "data": {
      "text/plain": [
       "count    5.622168e+06\n",
       "mean     8.478570e+02\n",
       "std      6.180921e+02\n",
       "min      2.800000e+01\n",
       "25%      3.910000e+02\n",
       "50%      6.770000e+02\n",
       "75%      1.089000e+03\n",
       "max      4.983000e+03\n",
       "Name: DISTANCE, dtype: float64"
      ]
     },
     "execution_count": 61,
     "metadata": {},
     "output_type": "execute_result"
    }
   ],
   "source": [
    "df_flights.DISTANCE.describe()"
   ]
  },
  {
   "cell_type": "markdown",
   "metadata": {},
   "source": [
    "> We observe that the smallest DISTANCE is 28 miles, when looking at a sample of flights having a DISTANCE < 40 miles, we see that almost all of them are within the same state and the AIR_TIME is coherent.\n",
    "We'll keep those."
   ]
  },
  {
   "cell_type": "code",
   "execution_count": 62,
   "metadata": {},
   "outputs": [
    {
     "data": {
      "text/html": [
       "<div>\n",
       "<style scoped>\n",
       "    .dataframe tbody tr th:only-of-type {\n",
       "        vertical-align: middle;\n",
       "    }\n",
       "\n",
       "    .dataframe tbody tr th {\n",
       "        vertical-align: top;\n",
       "    }\n",
       "\n",
       "    .dataframe thead th {\n",
       "        text-align: right;\n",
       "    }\n",
       "</style>\n",
       "<table border=\"1\" class=\"dataframe\">\n",
       "  <thead>\n",
       "    <tr style=\"text-align: right;\">\n",
       "      <th></th>\n",
       "      <th>UNIQUE_CARRIER</th>\n",
       "      <th>ORIGIN_STATE_ABR</th>\n",
       "      <th>DEST_STATE_ABR</th>\n",
       "      <th>DISTANCE</th>\n",
       "      <th>AIR_TIME</th>\n",
       "    </tr>\n",
       "  </thead>\n",
       "  <tbody>\n",
       "    <tr>\n",
       "      <th>5364161</th>\n",
       "      <td>AS</td>\n",
       "      <td>AK</td>\n",
       "      <td>AK</td>\n",
       "      <td>31</td>\n",
       "      <td>12</td>\n",
       "    </tr>\n",
       "    <tr>\n",
       "      <th>5139372</th>\n",
       "      <td>AS</td>\n",
       "      <td>AK</td>\n",
       "      <td>AK</td>\n",
       "      <td>31</td>\n",
       "      <td>9</td>\n",
       "    </tr>\n",
       "    <tr>\n",
       "      <th>2268388</th>\n",
       "      <td>AS</td>\n",
       "      <td>AK</td>\n",
       "      <td>AK</td>\n",
       "      <td>31</td>\n",
       "      <td>13</td>\n",
       "    </tr>\n",
       "    <tr>\n",
       "      <th>2747345</th>\n",
       "      <td>AS</td>\n",
       "      <td>AK</td>\n",
       "      <td>AK</td>\n",
       "      <td>31</td>\n",
       "      <td>13</td>\n",
       "    </tr>\n",
       "    <tr>\n",
       "      <th>1313010</th>\n",
       "      <td>AS</td>\n",
       "      <td>AK</td>\n",
       "      <td>AK</td>\n",
       "      <td>31</td>\n",
       "      <td>10</td>\n",
       "    </tr>\n",
       "  </tbody>\n",
       "</table>\n",
       "</div>"
      ],
      "text/plain": [
       "        UNIQUE_CARRIER ORIGIN_STATE_ABR DEST_STATE_ABR  DISTANCE  AIR_TIME\n",
       "5364161             AS               AK             AK        31        12\n",
       "5139372             AS               AK             AK        31         9\n",
       "2268388             AS               AK             AK        31        13\n",
       "2747345             AS               AK             AK        31        13\n",
       "1313010             AS               AK             AK        31        10"
      ]
     },
     "execution_count": 62,
     "metadata": {},
     "output_type": "execute_result"
    }
   ],
   "source": [
    "df_flights.query('DISTANCE < 40')\\\n",
    "[['UNIQUE_CARRIER','ORIGIN_STATE_ABR','DEST_STATE_ABR','DISTANCE','AIR_TIME']].sample(5)"
   ]
  },
  {
   "cell_type": "markdown",
   "metadata": {},
   "source": [
    "> By observing flights having DISTANCES > 4800, we see that once again the AIR_TIME seem coherent, we'll keep those at this point too"
   ]
  },
  {
   "cell_type": "code",
   "execution_count": 63,
   "metadata": {},
   "outputs": [
    {
     "data": {
      "text/html": [
       "<div>\n",
       "<style scoped>\n",
       "    .dataframe tbody tr th:only-of-type {\n",
       "        vertical-align: middle;\n",
       "    }\n",
       "\n",
       "    .dataframe tbody tr th {\n",
       "        vertical-align: top;\n",
       "    }\n",
       "\n",
       "    .dataframe thead th {\n",
       "        text-align: right;\n",
       "    }\n",
       "</style>\n",
       "<table border=\"1\" class=\"dataframe\">\n",
       "  <thead>\n",
       "    <tr style=\"text-align: right;\">\n",
       "      <th></th>\n",
       "      <th>UNIQUE_CARRIER</th>\n",
       "      <th>ORIGIN_STATE_ABR</th>\n",
       "      <th>DEST_STATE_ABR</th>\n",
       "      <th>DISTANCE</th>\n",
       "      <th>AIR_TIME</th>\n",
       "    </tr>\n",
       "  </thead>\n",
       "  <tbody>\n",
       "    <tr>\n",
       "      <th>242886</th>\n",
       "      <td>DL</td>\n",
       "      <td>HI</td>\n",
       "      <td>NY</td>\n",
       "      <td>4983</td>\n",
       "      <td>539</td>\n",
       "    </tr>\n",
       "    <tr>\n",
       "      <th>3293107</th>\n",
       "      <td>UA</td>\n",
       "      <td>VA</td>\n",
       "      <td>HI</td>\n",
       "      <td>4817</td>\n",
       "      <td>591</td>\n",
       "    </tr>\n",
       "    <tr>\n",
       "      <th>1213968</th>\n",
       "      <td>UA</td>\n",
       "      <td>NJ</td>\n",
       "      <td>HI</td>\n",
       "      <td>4962</td>\n",
       "      <td>672</td>\n",
       "    </tr>\n",
       "    <tr>\n",
       "      <th>3249892</th>\n",
       "      <td>UA</td>\n",
       "      <td>HI</td>\n",
       "      <td>VA</td>\n",
       "      <td>4817</td>\n",
       "      <td>523</td>\n",
       "    </tr>\n",
       "    <tr>\n",
       "      <th>2666650</th>\n",
       "      <td>UA</td>\n",
       "      <td>NJ</td>\n",
       "      <td>HI</td>\n",
       "      <td>4962</td>\n",
       "      <td>606</td>\n",
       "    </tr>\n",
       "  </tbody>\n",
       "</table>\n",
       "</div>"
      ],
      "text/plain": [
       "        UNIQUE_CARRIER ORIGIN_STATE_ABR DEST_STATE_ABR  DISTANCE  AIR_TIME\n",
       "242886              DL               HI             NY      4983       539\n",
       "3293107             UA               VA             HI      4817       591\n",
       "1213968             UA               NJ             HI      4962       672\n",
       "3249892             UA               HI             VA      4817       523\n",
       "2666650             UA               NJ             HI      4962       606"
      ]
     },
     "execution_count": 63,
     "metadata": {},
     "output_type": "execute_result"
    }
   ],
   "source": [
    "df_flights.query('DISTANCE > 4800')\\\n",
    "[['UNIQUE_CARRIER','ORIGIN_STATE_ABR','DEST_STATE_ABR','DISTANCE','AIR_TIME']].sample(5)"
   ]
  },
  {
   "cell_type": "markdown",
   "metadata": {},
   "source": [
    "#### AIR_TIME"
   ]
  },
  {
   "cell_type": "code",
   "execution_count": 64,
   "metadata": {},
   "outputs": [
    {
     "data": {
      "text/plain": [
       "-999"
      ]
     },
     "execution_count": 64,
     "metadata": {},
     "output_type": "execute_result"
    }
   ],
   "source": [
    "df_flights.AIR_TIME.min()"
   ]
  },
  {
   "cell_type": "code",
   "execution_count": 65,
   "metadata": {},
   "outputs": [
    {
     "data": {
      "text/plain": [
       "4"
      ]
     },
     "execution_count": 65,
     "metadata": {},
     "output_type": "execute_result"
    }
   ],
   "source": [
    "df_flights.query('CANCELLED == 0').AIR_TIME.min()"
   ]
  },
  {
   "cell_type": "markdown",
   "metadata": {},
   "source": [
    "> The -999 is the value we gave during the cleaning for missing values for cancelled flights"
   ]
  },
  {
   "cell_type": "markdown",
   "metadata": {},
   "source": [
    "#### ARR_DELAY"
   ]
  },
  {
   "cell_type": "markdown",
   "metadata": {},
   "source": [
    "> - If we keep our end goal in mind, this is the most important feature to clean in case of OUTLIERS. As this will finally be the feature we want to predict \n",
    "> - By looking at the 5-figures resume of it's distribution (with only NON CANCELLED FLIGHTS), we remark immediately, the minimum -152 minutes (2h30 too early !!) and the maximum of 2142 minutes (more than 35 hours too late)"
   ]
  },
  {
   "cell_type": "code",
   "execution_count": 66,
   "metadata": {},
   "outputs": [
    {
     "data": {
      "text/plain": [
       "count    5.622168e+06\n",
       "mean    -8.227795e+00\n",
       "std      1.157260e+02\n",
       "min     -9.990000e+02\n",
       "25%     -1.500000e+01\n",
       "50%     -6.000000e+00\n",
       "75%      6.000000e+00\n",
       "max      2.142000e+03\n",
       "Name: ARR_DELAY, dtype: float64"
      ]
     },
     "execution_count": 66,
     "metadata": {},
     "output_type": "execute_result"
    }
   ],
   "source": [
    "# With Cancelled flights\n",
    "df_flights.ARR_DELAY.describe()"
   ]
  },
  {
   "cell_type": "code",
   "execution_count": 67,
   "metadata": {},
   "outputs": [],
   "source": [
    "df_regression = df_flights[df_flights.CANCELLED == 0 ]"
   ]
  },
  {
   "cell_type": "code",
   "execution_count": 68,
   "metadata": {},
   "outputs": [
    {
     "name": "stdout",
     "output_type": "stream",
     "text": [
      "5556195\n"
     ]
    },
    {
     "data": {
      "text/plain": [
       "count    5.556195e+06\n",
       "mean     3.536409e+00\n",
       "std      4.192246e+01\n",
       "min     -1.520000e+02\n",
       "25%     -1.400000e+01\n",
       "50%     -6.000000e+00\n",
       "75%      6.000000e+00\n",
       "max      2.142000e+03\n",
       "Name: ARR_DELAY, dtype: float64"
      ]
     },
     "execution_count": 68,
     "metadata": {},
     "output_type": "execute_result"
    }
   ],
   "source": [
    "print(df_regression.shape[0])\n",
    "df_regression.ARR_DELAY.describe()"
   ]
  },
  {
   "cell_type": "code",
   "execution_count": 69,
   "metadata": {},
   "outputs": [
    {
     "data": {
      "image/png": "[encoded data removed]",
      "text/plain": [
       "<Figure size 1800x1008 with 3 Axes>"
      ]
     },
     "metadata": {
      "needs_background": "light"
     },
     "output_type": "display_data"
    }
   ],
   "source": [
    "plt.figure(figsize = [25,14])\n",
    "plt.subplot(2,2,1)\n",
    "bin_edges = np.arange(-100,1000,5)\n",
    "plt.hist(data=df_regression, x='ARR_DELAY',bins=bin_edges)\n",
    "plt.xlim(-100,500)\n",
    "plt.title('Distribution of Arrival delay [min]',fontsize=15)\n",
    "plt.xlabel('[Minutes]',fontsize=10);\n",
    "\n",
    "plt.subplot(2,2,2)\n",
    "#bin_edges = np.arange(-500,df_regression.ARR_DELAY.max()+10,5)\n",
    "plt.hist(data=df_regression, x='ARR_DELAY',bins=bin_edges)\n",
    "plt.xlim(180,1000)\n",
    "plt.ylim(0,2500)\n",
    "plt.title('Zoom on distribution of Arrival delay [min]',fontsize=15)\n",
    "plt.xlabel('[Minutes]',fontsize=10);\n",
    "\n",
    "\n",
    "\n",
    "plt.subplot(2,2,3)\n",
    "bin_edges_l = np.arange(-100,0,2)\n",
    "plt.hist(data=df_regression, x='ARR_DELAY',bins=bin_edges_l)\n",
    "plt.xlim(-75,0)\n",
    "plt.ylim(0,600000)\n",
    "plt.title('Zoom on distribution of Arrival delay [min]',fontsize=15)\n",
    "plt.xlabel('[Minutes]',fontsize=10);"
   ]
  },
  {
   "cell_type": "code",
   "execution_count": 70,
   "metadata": {},
   "outputs": [
    {
     "name": "stdout",
     "output_type": "stream",
     "text": [
      "Quantile 1%:  -35.0\n",
      "Quantile 99%:  172.0\n"
     ]
    }
   ],
   "source": [
    "print(\"Quantile 1%: \",df_regression.ARR_DELAY.quantile(.01))\n",
    "print(\"Quantile 99%: \",df_regression.ARR_DELAY.quantile(.99))"
   ]
  },
  {
   "cell_type": "code",
   "execution_count": 71,
   "metadata": {},
   "outputs": [],
   "source": [
    "# Removing those outliners\n",
    "df_regression = df_regression[df_regression.ARR_DELAY > -35]"
   ]
  },
  {
   "cell_type": "code",
   "execution_count": 72,
   "metadata": {},
   "outputs": [],
   "source": [
    "# Keeping rows with less than 172 hours delay (almost 3 hours)\n",
    "df_regression = df_regression[df_regression.ARR_DELAY < 172]"
   ]
  },
  {
   "cell_type": "markdown",
   "metadata": {},
   "source": [
    "##### Test"
   ]
  },
  {
   "cell_type": "code",
   "execution_count": 73,
   "metadata": {},
   "outputs": [
    {
     "name": "stdout",
     "output_type": "stream",
     "text": [
      "-34\n",
      "171\n"
     ]
    }
   ],
   "source": [
    "print(df_regression.ARR_DELAY.min())\n",
    "print(df_regression.ARR_DELAY.max())"
   ]
  },
  {
   "cell_type": "markdown",
   "metadata": {},
   "source": [
    "#### Keeping specific columns for the regression"
   ]
  },
  {
   "cell_type": "code",
   "execution_count": 74,
   "metadata": {},
   "outputs": [],
   "source": [
    "regression_col = ['UNIQUE_CARRIER', 'FL_DATE', 'MONTH', 'DAY_OF_MONTH', 'DAY_OF_WEEK', 'DEP_HOUR',\n",
    "                  'CRS_DEP_TIME','ARR_HOUR','CRS_ARR_TIME', 'ORIGIN_AIRPORT_ID', 'DEST_AIRPORT_ID', \n",
    "                  'DISTANCE', 'ARR_DELAY']"
   ]
  },
  {
   "cell_type": "code",
   "execution_count": 75,
   "metadata": {},
   "outputs": [
    {
     "data": {
      "text/plain": [
       "(5436183, 34)"
      ]
     },
     "execution_count": 75,
     "metadata": {},
     "output_type": "execute_result"
    }
   ],
   "source": [
    "df_regression.shape"
   ]
  },
  {
   "cell_type": "code",
   "execution_count": 76,
   "metadata": {},
   "outputs": [],
   "source": [
    "df_regression = df_regression[regression_col]"
   ]
  },
  {
   "cell_type": "code",
   "execution_count": 79,
   "metadata": {},
   "outputs": [
    {
     "data": {
      "text/plain": [
       "(5436183, 13)"
      ]
     },
     "execution_count": 79,
     "metadata": {},
     "output_type": "execute_result"
    }
   ],
   "source": [
    "df_regression.shape"
   ]
  },
  {
   "cell_type": "markdown",
   "metadata": {},
   "source": [
    "<a id='exporting'></a>\n",
    "### Exporting Cleaned data in csv\n",
    "<a href=\"#table\">Back to table of content</a>"
   ]
  },
  {
   "cell_type": "markdown",
   "metadata": {},
   "source": [
    "##### Export to use for the exploration (contains also data of cancelled flights)"
   ]
  },
  {
   "cell_type": "code",
   "execution_count": 77,
   "metadata": {},
   "outputs": [],
   "source": [
    "df_flights.to_csv('df_flights_clean_JDH.csv', encoding='utf_8', index=False)"
   ]
  },
  {
   "cell_type": "markdown",
   "metadata": {},
   "source": [
    "##### Export to use for the regression models (only data for NON-CANCELLED flights"
   ]
  },
  {
   "cell_type": "code",
   "execution_count": 78,
   "metadata": {},
   "outputs": [],
   "source": [
    "df_regression.to_csv('df_regression_clean_JDH.csv', encoding='utf_8', index=False)"
   ]
  }
 ],
 "metadata": {
  "kernelspec": {
   "display_name": "Python 3",
   "language": "python",
   "name": "python3"
  },
  "language_info": {
   "codemirror_mode": {
    "name": "ipython",
    "version": 3
   },
   "file_extension": ".py",
   "mimetype": "text/x-python",
   "name": "python",
   "nbconvert_exporter": "python",
   "pygments_lexer": "ipython3",
   "version": "3.7.2"
  }
 },
 "nbformat": 4,
 "nbformat_minor": 2
}
